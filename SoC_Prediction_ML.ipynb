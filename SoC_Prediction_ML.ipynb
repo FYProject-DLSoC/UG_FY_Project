{
  "cells": [
    {
      "cell_type": "markdown",
      "metadata": {
        "id": "5aE4Uvrv1rXO"
      },
      "source": [
        "# Machine Learning Algorithms"
      ]
    },
    {
      "cell_type": "code",
      "execution_count": 1,
      "metadata": {},
      "outputs": [],
      "source": [
        "# Importing the required libraries\n",
        "import pandas as pd\n",
        "import numpy as np\n",
        "import matplotlib.pyplot as plt\n",
        "from sklearn.linear_model import LinearRegression\n",
        "from sklearn.model_selection import train_test_split\n",
        "from sklearn.preprocessing import StandardScaler, MinMaxScaler\n",
        "from sklearn.metrics import mean_squared_error, mean_absolute_error, r2_score\n",
        "from matplotlib.ticker import MaxNLocator\n",
        "import keras"
      ]
    },
    {
      "cell_type": "markdown",
      "metadata": {},
      "source": [
        "## Training Dataset"
      ]
    },
    {
      "cell_type": "code",
      "execution_count": 2,
      "metadata": {
        "id": "89JKtwD32kG9"
      },
      "outputs": [
        {
          "data": {
            "text/plain": [
              "(538214, 102)"
            ]
          },
          "execution_count": 2,
          "metadata": {},
          "output_type": "execute_result"
        }
      ],
      "source": [
        "dft1 = pd.read_csv('TripA04.csv')\n",
        "dft2 = pd.read_csv('TripA06.csv')\n",
        "dft3 = pd.read_csv('TripA08.csv')\n",
        "dft4 = pd.read_csv('TripA12.csv')\n",
        "dft5 = pd.read_csv('TripA16.csv')\n",
        "dft6 = pd.read_csv('TripA20.csv')\n",
        "dft7 = pd.read_csv('TripA24.csv')\n",
        "dft8 = pd.read_csv('TripA28.csv')\n",
        "dft9 = pd.read_csv('TripA32.csv')\n",
        "dft10 = pd.read_csv('TripB01.csv')\n",
        "dft11 = pd.read_csv('TripB03.csv')\n",
        "dft12 = pd.read_csv('TripB10.csv')\n",
        "dft13 = pd.read_csv('TripB15.csv')\n",
        "dft14 = pd.read_csv('TripB20.csv')\n",
        "dft15 = pd.read_csv('TripB23.csv')\n",
        "dft16 = pd.read_csv('TripB25.csv')\n",
        "dft17 = pd.read_csv('TripB27.csv')\n",
        "dft18 = pd.read_csv('TripB30.csv')\n",
        "dft19 = pd.read_csv('TripB33.csv')\n",
        "dft20 = pd.read_csv('TripB38.csv')\n",
        "dft21 = pd.read_csv('TripA02.csv')\n",
        "dft22 = pd.read_csv('TripA03.csv')\n",
        "dft23 = pd.read_csv('TripA07.csv')\n",
        "dft24 = pd.read_csv('TripA15.csv')\n",
        "dft25 = pd.read_csv('TripA21.csv')\n",
        "dft26 = pd.read_csv('TripA25.csv')\n",
        "dft27 = pd.read_csv('TripA27.csv')\n",
        "dft28 = pd.read_csv('TripB05.csv')\n",
        "dft29 = pd.read_csv('TripB07.csv')\n",
        "dft30 = pd.read_csv('TripB13.csv')\n",
        "dft31 = pd.read_csv('TripB16.csv')\n",
        "dft32 = pd.read_csv('TripB22.csv')\n",
        "dft33 = pd.read_csv('TripB28.csv')\n",
        "dft34 = pd.read_csv('TripB31.csv')\n",
        "dft35 = pd.read_csv('TripB37.csv')\n",
        "\n",
        "df = pd.concat([dft1, dft2, dft3, dft4, dft5, dft6, dft7, dft8, dft9, dft10, dft11, dft12, dft13, dft14, dft15, dft16, dft17, dft18, dft19, \n",
        "                dft20, dft21, dft22, dft23, dft24, dft25, dft26, dft27, dft28, dft29, dft30, dft31, dft32, dft33, dft34, dft35], ignore_index=True)\n",
        "df.shape"
      ]
    },
    {
      "cell_type": "code",
      "execution_count": 3,
      "metadata": {
        "id": "5UgFwk216wq7"
      },
      "outputs": [],
      "source": [
        "# Extracting input variables and target variable from the dataset\n",
        "Train_DF = df[['Battery Voltage [V]','Battery Current [A]','Battery Temperature [C]','SoC [%]']]"
      ]
    },
    {
      "cell_type": "code",
      "execution_count": 4,
      "metadata": {
        "colab": {
          "base_uri": "https://localhost:8080/"
        },
        "id": "lpgjfbk_54Rm",
        "outputId": "0dace33b-e27b-483c-ff72-495a415ee224"
      },
      "outputs": [
        {
          "name": "stdout",
          "output_type": "stream",
          "text": [
            "<class 'pandas.core.frame.DataFrame'>\n",
            "RangeIndex: 538214 entries, 0 to 538213\n",
            "Data columns (total 4 columns):\n",
            " #   Column                   Non-Null Count   Dtype  \n",
            "---  ------                   --------------   -----  \n",
            " 0   Battery Voltage [V]      538214 non-null  float64\n",
            " 1   Battery Current [A]      538214 non-null  float64\n",
            " 2   Battery Temperature [C]  496092 non-null  float64\n",
            " 3   SoC [%]                  532403 non-null  float64\n",
            "dtypes: float64(4)\n",
            "memory usage: 16.4 MB\n"
          ]
        }
      ],
      "source": [
        "Train_DF.info()"
      ]
    },
    {
      "cell_type": "code",
      "execution_count": 5,
      "metadata": {},
      "outputs": [
        {
          "data": {
            "text/html": [
              "<div>\n",
              "<style scoped>\n",
              "    .dataframe tbody tr th:only-of-type {\n",
              "        vertical-align: middle;\n",
              "    }\n",
              "\n",
              "    .dataframe tbody tr th {\n",
              "        vertical-align: top;\n",
              "    }\n",
              "\n",
              "    .dataframe thead th {\n",
              "        text-align: right;\n",
              "    }\n",
              "</style>\n",
              "<table border=\"1\" class=\"dataframe\">\n",
              "  <thead>\n",
              "    <tr style=\"text-align: right;\">\n",
              "      <th></th>\n",
              "      <th>Battery Voltage [V]</th>\n",
              "      <th>Battery Current [A]</th>\n",
              "      <th>Battery Temperature [C]</th>\n",
              "      <th>SoC [%]</th>\n",
              "    </tr>\n",
              "  </thead>\n",
              "  <tbody>\n",
              "    <tr>\n",
              "      <th>count</th>\n",
              "      <td>538214.000000</td>\n",
              "      <td>538214.000000</td>\n",
              "      <td>496092.000000</td>\n",
              "      <td>532403.000000</td>\n",
              "    </tr>\n",
              "    <tr>\n",
              "      <th>mean</th>\n",
              "      <td>376.137015</td>\n",
              "      <td>-21.815535</td>\n",
              "      <td>16.707009</td>\n",
              "      <td>65.893844</td>\n",
              "    </tr>\n",
              "    <tr>\n",
              "      <th>std</th>\n",
              "      <td>10.793452</td>\n",
              "      <td>43.691556</td>\n",
              "      <td>7.965289</td>\n",
              "      <td>12.973672</td>\n",
              "    </tr>\n",
              "    <tr>\n",
              "      <th>min</th>\n",
              "      <td>301.800000</td>\n",
              "      <td>-402.280000</td>\n",
              "      <td>-1.000000</td>\n",
              "      <td>19.600000</td>\n",
              "    </tr>\n",
              "    <tr>\n",
              "      <th>25%</th>\n",
              "      <td>369.820000</td>\n",
              "      <td>-33.640000</td>\n",
              "      <td>10.000000</td>\n",
              "      <td>59.500000</td>\n",
              "    </tr>\n",
              "    <tr>\n",
              "      <th>50%</th>\n",
              "      <td>378.930000</td>\n",
              "      <td>-12.670000</td>\n",
              "      <td>18.000000</td>\n",
              "      <td>68.200000</td>\n",
              "    </tr>\n",
              "    <tr>\n",
              "      <th>75%</th>\n",
              "      <td>384.066905</td>\n",
              "      <td>-2.600000</td>\n",
              "      <td>25.000000</td>\n",
              "      <td>75.400000</td>\n",
              "    </tr>\n",
              "    <tr>\n",
              "      <th>max</th>\n",
              "      <td>394.660000</td>\n",
              "      <td>143.840000</td>\n",
              "      <td>32.000000</td>\n",
              "      <td>86.600000</td>\n",
              "    </tr>\n",
              "  </tbody>\n",
              "</table>\n",
              "</div>"
            ],
            "text/plain": [
              "       Battery Voltage [V]  Battery Current [A]  Battery Temperature [C]  \\\n",
              "count        538214.000000        538214.000000            496092.000000   \n",
              "mean            376.137015           -21.815535                16.707009   \n",
              "std              10.793452            43.691556                 7.965289   \n",
              "min             301.800000          -402.280000                -1.000000   \n",
              "25%             369.820000           -33.640000                10.000000   \n",
              "50%             378.930000           -12.670000                18.000000   \n",
              "75%             384.066905            -2.600000                25.000000   \n",
              "max             394.660000           143.840000                32.000000   \n",
              "\n",
              "             SoC [%]  \n",
              "count  532403.000000  \n",
              "mean       65.893844  \n",
              "std        12.973672  \n",
              "min        19.600000  \n",
              "25%        59.500000  \n",
              "50%        68.200000  \n",
              "75%        75.400000  \n",
              "max        86.600000  "
            ]
          },
          "execution_count": 5,
          "metadata": {},
          "output_type": "execute_result"
        }
      ],
      "source": [
        "Train_DF.describe()"
      ]
    },
    {
      "cell_type": "markdown",
      "metadata": {},
      "source": [
        "### Data Preprocessing"
      ]
    },
    {
      "cell_type": "code",
      "execution_count": 6,
      "metadata": {},
      "outputs": [
        {
          "data": {
            "text/plain": [
              "Battery Voltage [V]            0\n",
              "Battery Current [A]            0\n",
              "Battery Temperature [C]    42122\n",
              "SoC [%]                     5811\n",
              "dtype: int64"
            ]
          },
          "execution_count": 6,
          "metadata": {},
          "output_type": "execute_result"
        }
      ],
      "source": [
        "Train_DF.isna().sum()"
      ]
    },
    {
      "cell_type": "code",
      "execution_count": 7,
      "metadata": {},
      "outputs": [
        {
          "name": "stderr",
          "output_type": "stream",
          "text": [
            "C:\\Users\\moule\\AppData\\Local\\Temp\\ipykernel_14684\\1450340318.py:1: FutureWarning: DataFrame.fillna with 'method' is deprecated and will raise in a future version. Use obj.ffill() or obj.bfill() instead.\n",
            "  Train_DF = Train_DF.fillna(method = 'bfill')\n"
          ]
        },
        {
          "data": {
            "text/plain": [
              "Battery Voltage [V]        0\n",
              "Battery Current [A]        0\n",
              "Battery Temperature [C]    0\n",
              "SoC [%]                    0\n",
              "dtype: int64"
            ]
          },
          "execution_count": 7,
          "metadata": {},
          "output_type": "execute_result"
        }
      ],
      "source": [
        "Train_DF = Train_DF.fillna(method = 'bfill')\n",
        "Train_DF.isna().sum()"
      ]
    },
    {
      "cell_type": "code",
      "execution_count": 8,
      "metadata": {},
      "outputs": [
        {
          "data": {
            "text/html": [
              "<div>\n",
              "<style scoped>\n",
              "    .dataframe tbody tr th:only-of-type {\n",
              "        vertical-align: middle;\n",
              "    }\n",
              "\n",
              "    .dataframe tbody tr th {\n",
              "        vertical-align: top;\n",
              "    }\n",
              "\n",
              "    .dataframe thead th {\n",
              "        text-align: right;\n",
              "    }\n",
              "</style>\n",
              "<table border=\"1\" class=\"dataframe\">\n",
              "  <thead>\n",
              "    <tr style=\"text-align: right;\">\n",
              "      <th></th>\n",
              "      <th>Battery Voltage [V]</th>\n",
              "      <th>Battery Current [A]</th>\n",
              "      <th>Battery Temperature [C]</th>\n",
              "      <th>SoC [%]</th>\n",
              "    </tr>\n",
              "  </thead>\n",
              "  <tbody>\n",
              "    <tr>\n",
              "      <th>35770</th>\n",
              "      <td>391.57</td>\n",
              "      <td>-8.96</td>\n",
              "      <td>26.0</td>\n",
              "      <td>86.6</td>\n",
              "    </tr>\n",
              "    <tr>\n",
              "      <th>35782</th>\n",
              "      <td>390.97</td>\n",
              "      <td>-16.99</td>\n",
              "      <td>26.0</td>\n",
              "      <td>86.6</td>\n",
              "    </tr>\n",
              "    <tr>\n",
              "      <th>35792</th>\n",
              "      <td>390.83</td>\n",
              "      <td>-17.85</td>\n",
              "      <td>26.0</td>\n",
              "      <td>86.6</td>\n",
              "    </tr>\n",
              "    <tr>\n",
              "      <th>35791</th>\n",
              "      <td>390.82</td>\n",
              "      <td>-17.96</td>\n",
              "      <td>26.0</td>\n",
              "      <td>86.6</td>\n",
              "    </tr>\n",
              "    <tr>\n",
              "      <th>35790</th>\n",
              "      <td>390.87</td>\n",
              "      <td>-17.66</td>\n",
              "      <td>26.0</td>\n",
              "      <td>86.6</td>\n",
              "    </tr>\n",
              "    <tr>\n",
              "      <th>...</th>\n",
              "      <td>...</td>\n",
              "      <td>...</td>\n",
              "      <td>...</td>\n",
              "      <td>...</td>\n",
              "    </tr>\n",
              "    <tr>\n",
              "      <th>510698</th>\n",
              "      <td>339.38</td>\n",
              "      <td>-1.30</td>\n",
              "      <td>11.0</td>\n",
              "      <td>19.6</td>\n",
              "    </tr>\n",
              "    <tr>\n",
              "      <th>510696</th>\n",
              "      <td>338.25</td>\n",
              "      <td>-10.61</td>\n",
              "      <td>11.0</td>\n",
              "      <td>19.6</td>\n",
              "    </tr>\n",
              "    <tr>\n",
              "      <th>510695</th>\n",
              "      <td>338.10</td>\n",
              "      <td>-11.60</td>\n",
              "      <td>11.0</td>\n",
              "      <td>19.6</td>\n",
              "    </tr>\n",
              "    <tr>\n",
              "      <th>510694</th>\n",
              "      <td>338.10</td>\n",
              "      <td>-11.15</td>\n",
              "      <td>11.0</td>\n",
              "      <td>19.6</td>\n",
              "    </tr>\n",
              "    <tr>\n",
              "      <th>510697</th>\n",
              "      <td>338.70</td>\n",
              "      <td>-6.71</td>\n",
              "      <td>11.0</td>\n",
              "      <td>19.6</td>\n",
              "    </tr>\n",
              "  </tbody>\n",
              "</table>\n",
              "<p>538214 rows × 4 columns</p>\n",
              "</div>"
            ],
            "text/plain": [
              "        Battery Voltage [V]  Battery Current [A]  Battery Temperature [C]  \\\n",
              "35770                391.57                -8.96                     26.0   \n",
              "35782                390.97               -16.99                     26.0   \n",
              "35792                390.83               -17.85                     26.0   \n",
              "35791                390.82               -17.96                     26.0   \n",
              "35790                390.87               -17.66                     26.0   \n",
              "...                     ...                  ...                      ...   \n",
              "510698               339.38                -1.30                     11.0   \n",
              "510696               338.25               -10.61                     11.0   \n",
              "510695               338.10               -11.60                     11.0   \n",
              "510694               338.10               -11.15                     11.0   \n",
              "510697               338.70                -6.71                     11.0   \n",
              "\n",
              "        SoC [%]  \n",
              "35770      86.6  \n",
              "35782      86.6  \n",
              "35792      86.6  \n",
              "35791      86.6  \n",
              "35790      86.6  \n",
              "...         ...  \n",
              "510698     19.6  \n",
              "510696     19.6  \n",
              "510695     19.6  \n",
              "510694     19.6  \n",
              "510697     19.6  \n",
              "\n",
              "[538214 rows x 4 columns]"
            ]
          },
          "execution_count": 8,
          "metadata": {},
          "output_type": "execute_result"
        }
      ],
      "source": [
        "Train_DF = Train_DF.sort_values(by='SoC [%]', ascending=False)\n",
        "Train_DF"
      ]
    },
    {
      "cell_type": "code",
      "execution_count": 9,
      "metadata": {},
      "outputs": [
        {
          "data": {
            "text/plain": [
              "(538214, 4)"
            ]
          },
          "execution_count": 9,
          "metadata": {},
          "output_type": "execute_result"
        }
      ],
      "source": [
        "Train_DF.shape"
      ]
    },
    {
      "cell_type": "markdown",
      "metadata": {},
      "source": [
        "## Test Dataset"
      ]
    },
    {
      "cell_type": "code",
      "execution_count": 10,
      "metadata": {},
      "outputs": [
        {
          "data": {
            "text/plain": [
              "(152119, 74)"
            ]
          },
          "execution_count": 10,
          "metadata": {},
          "output_type": "execute_result"
        }
      ],
      "source": [
        "dft_1 = pd.read_csv('TripA01.csv')\n",
        "dft_2 = pd.read_csv('TripA09.csv')\n",
        "dft_3 = pd.read_csv('TripA14.csv')\n",
        "dft_4 = pd.read_csv('TripA17.csv')\n",
        "dft_5 = pd.read_csv('TripA23.csv')\n",
        "dft_6 = pd.read_csv('TripA30.csv')\n",
        "dft_7 = pd.read_csv('TripB02.csv')\n",
        "dft_8 = pd.read_csv('TripB06.csv')\n",
        "dft_9 = pd.read_csv('TripB11.csv')\n",
        "dft_10 = pd.read_csv('TripB19.csv')\n",
        "dft_11 = pd.read_csv('TripB26.csv')\n",
        "dft_12 = pd.read_csv('TripB36.csv')\n",
        "\n",
        "df_test = pd.concat([dft_1, dft_2, dft_3, dft_4, dft_5, dft_6, dft_7, dft_8, dft_9, dft_10, dft_11, dft_12], ignore_index=True)\n",
        "df_test.shape"
      ]
    },
    {
      "cell_type": "code",
      "execution_count": 11,
      "metadata": {},
      "outputs": [],
      "source": [
        "# Extracting input variables and target variable from the dataset\n",
        "Test_DF = df_test[['Battery Voltage [V]','Battery Current [A]','Battery Temperature [C]','SoC [%]']]"
      ]
    },
    {
      "cell_type": "markdown",
      "metadata": {},
      "source": [
        "### Data Preprocessing"
      ]
    },
    {
      "cell_type": "code",
      "execution_count": 12,
      "metadata": {},
      "outputs": [
        {
          "data": {
            "text/plain": [
              "Battery Voltage [V]        0\n",
              "Battery Current [A]        0\n",
              "Battery Temperature [C]    0\n",
              "SoC [%]                    5\n",
              "dtype: int64"
            ]
          },
          "execution_count": 12,
          "metadata": {},
          "output_type": "execute_result"
        }
      ],
      "source": [
        "Test_DF.isna().sum()"
      ]
    },
    {
      "cell_type": "code",
      "execution_count": 13,
      "metadata": {},
      "outputs": [
        {
          "name": "stderr",
          "output_type": "stream",
          "text": [
            "C:\\Users\\moule\\AppData\\Local\\Temp\\ipykernel_14684\\2831511208.py:1: FutureWarning: DataFrame.fillna with 'method' is deprecated and will raise in a future version. Use obj.ffill() or obj.bfill() instead.\n",
            "  Test_DF = Test_DF.fillna(method = 'bfill')\n"
          ]
        },
        {
          "data": {
            "text/plain": [
              "Battery Voltage [V]        0\n",
              "Battery Current [A]        0\n",
              "Battery Temperature [C]    0\n",
              "SoC [%]                    0\n",
              "dtype: int64"
            ]
          },
          "execution_count": 13,
          "metadata": {},
          "output_type": "execute_result"
        }
      ],
      "source": [
        "Test_DF = Test_DF.fillna(method = 'bfill')\n",
        "Test_DF.isna().sum()"
      ]
    },
    {
      "cell_type": "code",
      "execution_count": 14,
      "metadata": {},
      "outputs": [
        {
          "data": {
            "text/html": [
              "<div>\n",
              "<style scoped>\n",
              "    .dataframe tbody tr th:only-of-type {\n",
              "        vertical-align: middle;\n",
              "    }\n",
              "\n",
              "    .dataframe tbody tr th {\n",
              "        vertical-align: top;\n",
              "    }\n",
              "\n",
              "    .dataframe thead th {\n",
              "        text-align: right;\n",
              "    }\n",
              "</style>\n",
              "<table border=\"1\" class=\"dataframe\">\n",
              "  <thead>\n",
              "    <tr style=\"text-align: right;\">\n",
              "      <th></th>\n",
              "      <th>Battery Voltage [V]</th>\n",
              "      <th>Battery Current [A]</th>\n",
              "      <th>Battery Temperature [C]</th>\n",
              "      <th>SoC [%]</th>\n",
              "    </tr>\n",
              "  </thead>\n",
              "  <tbody>\n",
              "    <tr>\n",
              "      <th>42171</th>\n",
              "      <td>390.30000</td>\n",
              "      <td>-20.05670</td>\n",
              "      <td>16.0</td>\n",
              "      <td>87.4</td>\n",
              "    </tr>\n",
              "    <tr>\n",
              "      <th>42128</th>\n",
              "      <td>390.50000</td>\n",
              "      <td>-19.45650</td>\n",
              "      <td>16.0</td>\n",
              "      <td>87.4</td>\n",
              "    </tr>\n",
              "    <tr>\n",
              "      <th>42140</th>\n",
              "      <td>390.40000</td>\n",
              "      <td>-19.30000</td>\n",
              "      <td>16.0</td>\n",
              "      <td>87.4</td>\n",
              "    </tr>\n",
              "    <tr>\n",
              "      <th>42139</th>\n",
              "      <td>390.43586</td>\n",
              "      <td>-19.55104</td>\n",
              "      <td>16.0</td>\n",
              "      <td>87.4</td>\n",
              "    </tr>\n",
              "    <tr>\n",
              "      <th>42138</th>\n",
              "      <td>390.48586</td>\n",
              "      <td>-19.90102</td>\n",
              "      <td>16.0</td>\n",
              "      <td>87.4</td>\n",
              "    </tr>\n",
              "    <tr>\n",
              "      <th>...</th>\n",
              "      <td>...</td>\n",
              "      <td>...</td>\n",
              "      <td>...</td>\n",
              "      <td>...</td>\n",
              "    </tr>\n",
              "    <tr>\n",
              "      <th>123316</th>\n",
              "      <td>347.56000</td>\n",
              "      <td>5.16000</td>\n",
              "      <td>15.0</td>\n",
              "      <td>21.2</td>\n",
              "    </tr>\n",
              "    <tr>\n",
              "      <th>123315</th>\n",
              "      <td>347.61000</td>\n",
              "      <td>5.34000</td>\n",
              "      <td>15.0</td>\n",
              "      <td>21.2</td>\n",
              "    </tr>\n",
              "    <tr>\n",
              "      <th>123314</th>\n",
              "      <td>347.66000</td>\n",
              "      <td>6.19000</td>\n",
              "      <td>15.0</td>\n",
              "      <td>21.2</td>\n",
              "    </tr>\n",
              "    <tr>\n",
              "      <th>123313</th>\n",
              "      <td>347.72000</td>\n",
              "      <td>7.07000</td>\n",
              "      <td>15.0</td>\n",
              "      <td>21.2</td>\n",
              "    </tr>\n",
              "    <tr>\n",
              "      <th>123278</th>\n",
              "      <td>347.58000</td>\n",
              "      <td>9.93000</td>\n",
              "      <td>15.0</td>\n",
              "      <td>21.2</td>\n",
              "    </tr>\n",
              "  </tbody>\n",
              "</table>\n",
              "<p>152119 rows × 4 columns</p>\n",
              "</div>"
            ],
            "text/plain": [
              "        Battery Voltage [V]  Battery Current [A]  Battery Temperature [C]  \\\n",
              "42171             390.30000            -20.05670                     16.0   \n",
              "42128             390.50000            -19.45650                     16.0   \n",
              "42140             390.40000            -19.30000                     16.0   \n",
              "42139             390.43586            -19.55104                     16.0   \n",
              "42138             390.48586            -19.90102                     16.0   \n",
              "...                     ...                  ...                      ...   \n",
              "123316            347.56000              5.16000                     15.0   \n",
              "123315            347.61000              5.34000                     15.0   \n",
              "123314            347.66000              6.19000                     15.0   \n",
              "123313            347.72000              7.07000                     15.0   \n",
              "123278            347.58000              9.93000                     15.0   \n",
              "\n",
              "        SoC [%]  \n",
              "42171      87.4  \n",
              "42128      87.4  \n",
              "42140      87.4  \n",
              "42139      87.4  \n",
              "42138      87.4  \n",
              "...         ...  \n",
              "123316     21.2  \n",
              "123315     21.2  \n",
              "123314     21.2  \n",
              "123313     21.2  \n",
              "123278     21.2  \n",
              "\n",
              "[152119 rows x 4 columns]"
            ]
          },
          "execution_count": 14,
          "metadata": {},
          "output_type": "execute_result"
        }
      ],
      "source": [
        "Test_DF = Test_DF.sort_values(by='SoC [%]', ascending=False)\n",
        "Test_DF"
      ]
    },
    {
      "cell_type": "markdown",
      "metadata": {},
      "source": [
        "## Miscellaneous Dataset"
      ]
    },
    {
      "cell_type": "code",
      "execution_count": 15,
      "metadata": {},
      "outputs": [
        {
          "data": {
            "text/plain": [
              "(404460, 75)"
            ]
          },
          "execution_count": 15,
          "metadata": {},
          "output_type": "execute_result"
        }
      ],
      "source": [
        "dfm1 = pd.read_csv('TripA05.csv')\n",
        "dfm2 = pd.read_csv('TripA10.csv')\n",
        "dfm3 = pd.read_csv('TripA11.csv')\n",
        "dfm4 = pd.read_csv('TripA13.csv')\n",
        "dfm5 = pd.read_csv('TripA18.csv')\n",
        "dfm6 = pd.read_csv('TripA19.csv')\n",
        "dfm7 = pd.read_csv('TripA22.csv')\n",
        "dfm8 = pd.read_csv('TripA26.csv')\n",
        "dfm9 = pd.read_csv('TripA29.csv')\n",
        "dfm10 = pd.read_csv('TripA31.csv')\n",
        "dfm11 = pd.read_csv('TripB04.csv')\n",
        "dfm12 = pd.read_csv('TripB08.csv')\n",
        "dfm13 = pd.read_csv('TripB09.csv')\n",
        "dfm14 = pd.read_csv('TripB12.csv')\n",
        "dfm15 = pd.read_csv('TripB14.csv')\n",
        "dfm16 = pd.read_csv('TripB17.csv')\n",
        "dfm17 = pd.read_csv('TripB18.csv')\n",
        "dfm18 = pd.read_csv('TripB21.csv')\n",
        "dfm19 = pd.read_csv('TripB24.csv')\n",
        "dfm20 = pd.read_csv('TripB29.csv')\n",
        "dfm21 = pd.read_csv('TripB32.csv')\n",
        "dfm22 = pd.read_csv('TripB34.csv')\n",
        "dfm23 = pd.read_csv('TripB35.csv')\n",
        "\n",
        "df_mis = pd.concat([dfm1, dfm2, dfm3, dfm4, dfm5, dfm6, dfm7, dfm8, dfm9, dfm10, dfm11, dfm12, dfm13, dfm14, dfm15, dfm16, dfm17, dfm18, dfm19, \n",
        "                dfm20, dfm21, dfm22, dfm23], ignore_index=True)\n",
        "df_mis.shape"
      ]
    },
    {
      "cell_type": "code",
      "execution_count": 16,
      "metadata": {},
      "outputs": [],
      "source": [
        "# Extracting input variables and target variable from the dataset\n",
        "Mis_DF = df_mis[['Battery Voltage [V]','Battery Current [A]','Battery Temperature [C]','SoC [%]']]"
      ]
    },
    {
      "cell_type": "markdown",
      "metadata": {},
      "source": [
        "### Data Preprocessing"
      ]
    },
    {
      "cell_type": "code",
      "execution_count": 17,
      "metadata": {},
      "outputs": [
        {
          "data": {
            "text/plain": [
              "Battery Voltage [V]            0\n",
              "Battery Current [A]            0\n",
              "Battery Temperature [C]        0\n",
              "SoC [%]                    15438\n",
              "dtype: int64"
            ]
          },
          "execution_count": 17,
          "metadata": {},
          "output_type": "execute_result"
        }
      ],
      "source": [
        "Mis_DF.isna().sum()"
      ]
    },
    {
      "cell_type": "code",
      "execution_count": 18,
      "metadata": {},
      "outputs": [
        {
          "name": "stderr",
          "output_type": "stream",
          "text": [
            "C:\\Users\\moule\\AppData\\Local\\Temp\\ipykernel_14684\\284891322.py:1: FutureWarning: DataFrame.fillna with 'method' is deprecated and will raise in a future version. Use obj.ffill() or obj.bfill() instead.\n",
            "  Mis_DF = Mis_DF.fillna(method = 'bfill')\n"
          ]
        },
        {
          "data": {
            "text/plain": [
              "Battery Voltage [V]        0\n",
              "Battery Current [A]        0\n",
              "Battery Temperature [C]    0\n",
              "SoC [%]                    0\n",
              "dtype: int64"
            ]
          },
          "execution_count": 18,
          "metadata": {},
          "output_type": "execute_result"
        }
      ],
      "source": [
        "Mis_DF = Mis_DF.fillna(method = 'bfill')\n",
        "Mis_DF.isna().sum()"
      ]
    },
    {
      "cell_type": "code",
      "execution_count": 19,
      "metadata": {},
      "outputs": [
        {
          "data": {
            "text/html": [
              "<div>\n",
              "<style scoped>\n",
              "    .dataframe tbody tr th:only-of-type {\n",
              "        vertical-align: middle;\n",
              "    }\n",
              "\n",
              "    .dataframe tbody tr th {\n",
              "        vertical-align: top;\n",
              "    }\n",
              "\n",
              "    .dataframe thead th {\n",
              "        text-align: right;\n",
              "    }\n",
              "</style>\n",
              "<table border=\"1\" class=\"dataframe\">\n",
              "  <thead>\n",
              "    <tr style=\"text-align: right;\">\n",
              "      <th></th>\n",
              "      <th>Battery Voltage [V]</th>\n",
              "      <th>Battery Current [A]</th>\n",
              "      <th>Battery Temperature [C]</th>\n",
              "      <th>SoC [%]</th>\n",
              "    </tr>\n",
              "  </thead>\n",
              "  <tbody>\n",
              "    <tr>\n",
              "      <th>58249</th>\n",
              "      <td>391.98</td>\n",
              "      <td>-10.03</td>\n",
              "      <td>22.0</td>\n",
              "      <td>88.5</td>\n",
              "    </tr>\n",
              "    <tr>\n",
              "      <th>58242</th>\n",
              "      <td>392.12</td>\n",
              "      <td>-9.81</td>\n",
              "      <td>22.0</td>\n",
              "      <td>88.5</td>\n",
              "    </tr>\n",
              "    <tr>\n",
              "      <th>58248</th>\n",
              "      <td>391.88</td>\n",
              "      <td>-11.44</td>\n",
              "      <td>22.0</td>\n",
              "      <td>88.5</td>\n",
              "    </tr>\n",
              "    <tr>\n",
              "      <th>58247</th>\n",
              "      <td>391.80</td>\n",
              "      <td>-12.63</td>\n",
              "      <td>22.0</td>\n",
              "      <td>88.5</td>\n",
              "    </tr>\n",
              "    <tr>\n",
              "      <th>58246</th>\n",
              "      <td>391.80</td>\n",
              "      <td>-12.78</td>\n",
              "      <td>22.0</td>\n",
              "      <td>88.5</td>\n",
              "    </tr>\n",
              "    <tr>\n",
              "      <th>...</th>\n",
              "      <td>...</td>\n",
              "      <td>...</td>\n",
              "      <td>...</td>\n",
              "      <td>...</td>\n",
              "    </tr>\n",
              "    <tr>\n",
              "      <th>375280</th>\n",
              "      <td>344.38</td>\n",
              "      <td>-5.59</td>\n",
              "      <td>14.0</td>\n",
              "      <td>15.4</td>\n",
              "    </tr>\n",
              "    <tr>\n",
              "      <th>375279</th>\n",
              "      <td>344.37</td>\n",
              "      <td>-5.32</td>\n",
              "      <td>14.0</td>\n",
              "      <td>15.4</td>\n",
              "    </tr>\n",
              "    <tr>\n",
              "      <th>375278</th>\n",
              "      <td>344.32</td>\n",
              "      <td>-4.77</td>\n",
              "      <td>14.0</td>\n",
              "      <td>15.4</td>\n",
              "    </tr>\n",
              "    <tr>\n",
              "      <th>375277</th>\n",
              "      <td>344.33</td>\n",
              "      <td>-4.70</td>\n",
              "      <td>14.0</td>\n",
              "      <td>15.4</td>\n",
              "    </tr>\n",
              "    <tr>\n",
              "      <th>375174</th>\n",
              "      <td>344.40</td>\n",
              "      <td>-5.16</td>\n",
              "      <td>14.0</td>\n",
              "      <td>15.4</td>\n",
              "    </tr>\n",
              "  </tbody>\n",
              "</table>\n",
              "<p>404460 rows × 4 columns</p>\n",
              "</div>"
            ],
            "text/plain": [
              "        Battery Voltage [V]  Battery Current [A]  Battery Temperature [C]  \\\n",
              "58249                391.98               -10.03                     22.0   \n",
              "58242                392.12                -9.81                     22.0   \n",
              "58248                391.88               -11.44                     22.0   \n",
              "58247                391.80               -12.63                     22.0   \n",
              "58246                391.80               -12.78                     22.0   \n",
              "...                     ...                  ...                      ...   \n",
              "375280               344.38                -5.59                     14.0   \n",
              "375279               344.37                -5.32                     14.0   \n",
              "375278               344.32                -4.77                     14.0   \n",
              "375277               344.33                -4.70                     14.0   \n",
              "375174               344.40                -5.16                     14.0   \n",
              "\n",
              "        SoC [%]  \n",
              "58249      88.5  \n",
              "58242      88.5  \n",
              "58248      88.5  \n",
              "58247      88.5  \n",
              "58246      88.5  \n",
              "...         ...  \n",
              "375280     15.4  \n",
              "375279     15.4  \n",
              "375278     15.4  \n",
              "375277     15.4  \n",
              "375174     15.4  \n",
              "\n",
              "[404460 rows x 4 columns]"
            ]
          },
          "execution_count": 19,
          "metadata": {},
          "output_type": "execute_result"
        }
      ],
      "source": [
        "Mis_DF = Mis_DF.sort_values(by='SoC [%]', ascending=False)\n",
        "Mis_DF"
      ]
    },
    {
      "cell_type": "markdown",
      "metadata": {},
      "source": [
        "## Splitting the Data into Training and Validation Subsets"
      ]
    },
    {
      "cell_type": "code",
      "execution_count": 20,
      "metadata": {},
      "outputs": [],
      "source": [
        "# Separating the input features and target variable\n",
        "X = Train_DF[['Battery Voltage [V]', 'Battery Current [A]', 'Battery Temperature [C]']]\n",
        "y = Train_DF['SoC [%]']\n",
        "\n",
        "# Performing 80:20 train-test split\n",
        "X_train, X_val, y_train, y_val = train_test_split(X, y, test_size=0.2)"
      ]
    },
    {
      "cell_type": "markdown",
      "metadata": {},
      "source": [
        "## Normalizing the Data"
      ]
    },
    {
      "cell_type": "code",
      "execution_count": 21,
      "metadata": {},
      "outputs": [],
      "source": [
        "scaler = MinMaxScaler(feature_range=(-1, 1))\n",
        "X_train_scaled = scaler.fit_transform(X_train)\n",
        "X_val_scaled = scaler.transform(X_val)"
      ]
    },
    {
      "cell_type": "code",
      "execution_count": 22,
      "metadata": {},
      "outputs": [],
      "source": [
        "X_test = Test_DF[['Battery Voltage [V]', 'Battery Current [A]', 'Battery Temperature [C]']]\n",
        "y_test = Test_DF['SoC [%]'] \n",
        "X_test_scaled = scaler.transform(X_test)"
      ]
    },
    {
      "cell_type": "code",
      "execution_count": 23,
      "metadata": {},
      "outputs": [],
      "source": [
        "X_mis = Mis_DF[['Battery Voltage [V]', 'Battery Current [A]', 'Battery Temperature [C]']]\n",
        "y_mis = Mis_DF['SoC [%]'] \n",
        "X_mis_scaled = scaler.transform(X_mis)"
      ]
    },
    {
      "cell_type": "markdown",
      "metadata": {},
      "source": [
        "## Linear Regression"
      ]
    },
    {
      "cell_type": "code",
      "execution_count": 24,
      "metadata": {
        "colab": {
          "base_uri": "https://localhost:8080/"
        },
        "id": "er0eTCFV28wA",
        "outputId": "fed76d45-9a38-4179-b45d-dd540faca59a"
      },
      "outputs": [
        {
          "name": "stdout",
          "output_type": "stream",
          "text": [
            "Training R2 Score (in %): 83.0523\n",
            "Validation R2 Score (in %): 82.4862\n"
          ]
        }
      ],
      "source": [
        "from sklearn.linear_model import LinearRegression\n",
        "from sklearn.model_selection import train_test_split\n",
        "\n",
        "lr_model = LinearRegression()\n",
        "\n",
        "lr_model.fit(X_train_scaled, y_train)\n",
        "\n",
        "training_score_lr = lr_model.score(X_train_scaled, y_train)\n",
        "print('Training R2 Score (in %):', round(training_score_lr*100, 4))\n",
        "\n",
        "validation_score_lr = lr_model.score(X_val_scaled, y_val)\n",
        "print('Validation R2 Score (in %):', round(validation_score_lr*100, 4))"
      ]
    },
    {
      "cell_type": "code",
      "execution_count": 64,
      "metadata": {},
      "outputs": [
        {
          "name": "stdout",
          "output_type": "stream",
          "text": [
            "Testing R2 Score (in %): 93.5444\n"
          ]
        }
      ],
      "source": [
        "testing_score_lr = lr_model.score(X_test_scaled, y_test)\n",
        "print('Testing R2 Score (in %):', round(testing_score_lr*100, 4))"
      ]
    },
    {
      "cell_type": "code",
      "execution_count": 26,
      "metadata": {},
      "outputs": [
        {
          "name": "stdout",
          "output_type": "stream",
          "text": [
            "Miscellaneous Testing R2 Score (in %): 81.546\n"
          ]
        }
      ],
      "source": [
        "mis_testing_score_lr = lr_model.score(X_mis_scaled, y_mis)\n",
        "print('Miscellaneous Testing R2 Score (in %):', round(mis_testing_score_lr*100, 4))"
      ]
    },
    {
      "cell_type": "markdown",
      "metadata": {},
      "source": [
        "## Lasso Regression"
      ]
    },
    {
      "cell_type": "code",
      "execution_count": 60,
      "metadata": {},
      "outputs": [
        {
          "name": "stdout",
          "output_type": "stream",
          "text": [
            "Training R2 Score (in %): 83.0422\n",
            "Validation R2 Score (in %): 82.4799\n"
          ]
        }
      ],
      "source": [
        "from sklearn.linear_model import Lasso\n",
        "\n",
        "lasso_model = Lasso(alpha=0.01, random_state=42)\n",
        "\n",
        "lasso_model.fit(X_train_scaled, y_train)\n",
        "\n",
        "training_score_lasso = lasso_model.score(X_train_scaled, y_train)\n",
        "print('Training R2 Score (in %):', round(training_score_lasso*100, 4))\n",
        "\n",
        "testing_score_lasso = lasso_model.score(X_val_scaled, y_val)\n",
        "print('Validation R2 Score (in %):', round(testing_score_lasso*100, 4))"
      ]
    },
    {
      "cell_type": "code",
      "execution_count": 63,
      "metadata": {},
      "outputs": [
        {
          "name": "stdout",
          "output_type": "stream",
          "text": [
            "Testing R2 Score (in %): 93.3806\n"
          ]
        }
      ],
      "source": [
        "testing_score_lasso = lasso_model.score(X_test_scaled, y_test)\n",
        "print('Testing R2 Score (in %):', round(testing_score_lasso*100, 4))"
      ]
    },
    {
      "cell_type": "code",
      "execution_count": 62,
      "metadata": {},
      "outputs": [
        {
          "name": "stdout",
          "output_type": "stream",
          "text": [
            "Miscellaneous Testing R2 Score (in %): 81.3624\n"
          ]
        }
      ],
      "source": [
        "mis_testing_score_lasso = lasso_model.score(X_mis_scaled, y_mis)\n",
        "print('Miscellaneous Testing R2 Score (in %):', round(mis_testing_score_lasso*100, 4))"
      ]
    },
    {
      "cell_type": "markdown",
      "metadata": {},
      "source": [
        "## Ridge Regression"
      ]
    },
    {
      "cell_type": "code",
      "execution_count": 27,
      "metadata": {},
      "outputs": [
        {
          "name": "stdout",
          "output_type": "stream",
          "text": [
            "Training R2 Score (in %): 83.0487\n",
            "Validation R2 Score (in %): 82.4857\n"
          ]
        }
      ],
      "source": [
        "from sklearn.linear_model import Ridge\n",
        "\n",
        "ridge_model = Ridge(alpha=50, random_state=42)\n",
        "\n",
        "ridge_model.fit(X_train_scaled, y_train)\n",
        "\n",
        "training_score_ridge = ridge_model.score(X_train_scaled, y_train)\n",
        "print('Training R2 Score (in %):', round(training_score_ridge*100, 4))\n",
        "\n",
        "validation_score_ridge = ridge_model.score(X_val_scaled, y_val)\n",
        "print('Validation R2 Score (in %):', round(validation_score_ridge*100, 4))\n"
      ]
    },
    {
      "cell_type": "code",
      "execution_count": 28,
      "metadata": {},
      "outputs": [
        {
          "name": "stdout",
          "output_type": "stream",
          "text": [
            "Testing R2 Score (in %): 93.4406\n"
          ]
        }
      ],
      "source": [
        "testing_score_ridge = ridge_model.score(X_test_scaled, y_test)\n",
        "print('Testing R2 Score (in %):', round(testing_score_ridge*100, 4))"
      ]
    },
    {
      "cell_type": "code",
      "execution_count": 29,
      "metadata": {},
      "outputs": [
        {
          "name": "stdout",
          "output_type": "stream",
          "text": [
            "Miscellaneous Testing R2 Score (in %): 81.4369\n"
          ]
        }
      ],
      "source": [
        "mis_testing_score_ridge = ridge_model.score(X_mis_scaled, y_mis)\n",
        "print('Miscellaneous Testing R2 Score (in %):', round(mis_testing_score_ridge*100, 4))"
      ]
    },
    {
      "cell_type": "markdown",
      "metadata": {},
      "source": [
        "## Linear SVR"
      ]
    },
    {
      "cell_type": "code",
      "execution_count": 76,
      "metadata": {},
      "outputs": [
        {
          "name": "stdout",
          "output_type": "stream",
          "text": [
            "Training R2 Score (in %): 82.0153\n",
            "Validation R2 Score (in %): 81.3113\n"
          ]
        }
      ],
      "source": [
        "from sklearn.svm import LinearSVR\n",
        "\n",
        "linear_svr_model = LinearSVR(epsilon=0.0, C=5.0, random_state=42)\n",
        "\n",
        "linear_svr_model.fit(X_train_scaled, y_train)\n",
        "\n",
        "training_score_linear_svr = linear_svr_model.score(X_train_scaled, y_train)\n",
        "print('Training R2 Score (in %):', round(training_score_linear_svr*100, 4))\n",
        "\n",
        "validation_score_linear_svr = linear_svr_model.score(X_val_scaled, y_val)\n",
        "print('Validation R2 Score (in %):', round(validation_score_linear_svr*100, 4))\n"
      ]
    },
    {
      "cell_type": "code",
      "execution_count": 78,
      "metadata": {},
      "outputs": [
        {
          "name": "stdout",
          "output_type": "stream",
          "text": [
            "Testing R2 Score (in %): 94.5484\n"
          ]
        }
      ],
      "source": [
        "testing_score_linear_svr = linear_svr_model.score(X_test_scaled, y_test)\n",
        "print('Testing R2 Score (in %):', round(testing_score_linear_svr*100, 4))"
      ]
    },
    {
      "cell_type": "code",
      "execution_count": 81,
      "metadata": {},
      "outputs": [
        {
          "name": "stdout",
          "output_type": "stream",
          "text": [
            "Miscellaneous Testing R2 Score (in %): 81.96\n"
          ]
        }
      ],
      "source": [
        "mis_testing_score_linear_svr = linear_svr_model.score(X_mis_scaled, y_mis)\n",
        "print('Miscellaneous Testing R2 Score (in %):', round(mis_testing_score_linear_svr*100, 4))"
      ]
    },
    {
      "cell_type": "markdown",
      "metadata": {},
      "source": [
        "## Decision Tree Regressor"
      ]
    },
    {
      "cell_type": "code",
      "execution_count": 30,
      "metadata": {},
      "outputs": [
        {
          "name": "stdout",
          "output_type": "stream",
          "text": [
            "Training R2 Score (in %): 99.9881\n",
            "Validation R2 Score (in %): 96.584\n"
          ]
        }
      ],
      "source": [
        "from sklearn.tree import DecisionTreeRegressor\n",
        "\n",
        "dt_model = DecisionTreeRegressor()\n",
        "\n",
        "dt_model.fit(X_train_scaled, y_train)\n",
        "\n",
        "training_score_dt = dt_model.score(X_train_scaled, y_train)\n",
        "print('Training R2 Score (in %):', round(training_score_dt*100, 4))\n",
        "\n",
        "validation_score_dt = dt_model.score(X_val_scaled, y_val)\n",
        "print('Validation R2 Score (in %):', round(validation_score_dt*100, 4))"
      ]
    },
    {
      "cell_type": "code",
      "execution_count": 31,
      "metadata": {},
      "outputs": [
        {
          "name": "stdout",
          "output_type": "stream",
          "text": [
            "Testing R2 Score (in %): 87.6646\n"
          ]
        }
      ],
      "source": [
        "testing_score_dt = dt_model.score(X_test_scaled, y_test)\n",
        "print('Testing R2 Score (in %):', round(testing_score_dt*100, 4))"
      ]
    },
    {
      "cell_type": "code",
      "execution_count": 32,
      "metadata": {},
      "outputs": [
        {
          "name": "stdout",
          "output_type": "stream",
          "text": [
            "Miscellaneous Testing R2 Score (in %): 72.6301\n"
          ]
        }
      ],
      "source": [
        "mis_testing_score_dt = dt_model.score(X_mis_scaled, y_mis)\n",
        "print('Miscellaneous Testing R2 Score (in %):', round(mis_testing_score_dt*100, 4))"
      ]
    },
    {
      "cell_type": "markdown",
      "metadata": {},
      "source": [
        "## AdaBoost Regressor"
      ]
    },
    {
      "cell_type": "code",
      "execution_count": 33,
      "metadata": {},
      "outputs": [
        {
          "name": "stdout",
          "output_type": "stream",
          "text": [
            "Training R2 Score (in %): 72.1787\n",
            "Validation R2 Score (in %): 71.8397\n"
          ]
        }
      ],
      "source": [
        "from sklearn.ensemble import AdaBoostRegressor\n",
        "\n",
        "adaboost_model = AdaBoostRegressor(n_estimators=50, random_state=42)\n",
        "\n",
        "adaboost_model.fit(X_train_scaled, y_train)\n",
        "\n",
        "training_score_adaboost = adaboost_model.score(X_train_scaled, y_train)\n",
        "print('Training R2 Score (in %):', round(training_score_adaboost*100, 4))\n",
        "\n",
        "validation_score_adaboost = adaboost_model.score(X_val_scaled, y_val)\n",
        "print('Validation R2 Score (in %):', round(validation_score_adaboost*100, 4))"
      ]
    },
    {
      "cell_type": "code",
      "execution_count": 34,
      "metadata": {},
      "outputs": [
        {
          "name": "stdout",
          "output_type": "stream",
          "text": [
            "Testing R2 Score (in %): 72.2454\n"
          ]
        }
      ],
      "source": [
        "testing_score_adaboost = adaboost_model.score(X_test_scaled, y_test)\n",
        "print('Testing R2 Score (in %):', round(testing_score_adaboost*100, 4))"
      ]
    },
    {
      "cell_type": "code",
      "execution_count": 35,
      "metadata": {},
      "outputs": [
        {
          "name": "stdout",
          "output_type": "stream",
          "text": [
            "Miscellaneous Testing R2 Score (in %): 59.6688\n"
          ]
        }
      ],
      "source": [
        "mis_testing_score_adaboost = adaboost_model.score(X_mis_scaled, y_mis)\n",
        "print('Miscellaneous Testing R2 Score (in %):', round(mis_testing_score_adaboost*100, 4))"
      ]
    },
    {
      "cell_type": "markdown",
      "metadata": {},
      "source": [
        "## MLP Regressor"
      ]
    },
    {
      "cell_type": "code",
      "execution_count": 36,
      "metadata": {},
      "outputs": [
        {
          "name": "stdout",
          "output_type": "stream",
          "text": [
            "Iteration 1, loss = 1000.47470840\n",
            "Iteration 2, loss = 56.24066882\n",
            "Iteration 3, loss = 33.18753686\n",
            "Iteration 4, loss = 19.84205891\n",
            "Iteration 5, loss = 15.36195020\n",
            "Iteration 6, loss = 13.35506516\n",
            "Iteration 7, loss = 12.25537533\n",
            "Iteration 8, loss = 11.67781896\n",
            "Iteration 9, loss = 11.37570262\n",
            "Iteration 10, loss = 11.21725675\n",
            "Iteration 11, loss = 11.12203133\n",
            "Iteration 12, loss = 10.98021266\n",
            "Iteration 13, loss = 10.80600477\n",
            "Iteration 14, loss = 10.67163934\n",
            "Iteration 15, loss = 10.55008629\n",
            "Iteration 16, loss = 10.45723077\n",
            "Iteration 17, loss = 10.37780994\n",
            "Iteration 18, loss = 10.30714182\n",
            "Iteration 19, loss = 10.24677535\n",
            "Iteration 20, loss = 10.18079143\n",
            "Iteration 21, loss = 10.11726129\n",
            "Iteration 22, loss = 10.04795111\n",
            "Iteration 23, loss = 9.97232066\n",
            "Iteration 24, loss = 9.89995536\n",
            "Iteration 25, loss = 9.83209525\n",
            "Iteration 26, loss = 9.77171134\n",
            "Iteration 27, loss = 9.71936673\n",
            "Iteration 28, loss = 9.66999098\n",
            "Iteration 29, loss = 9.61658826\n",
            "Iteration 30, loss = 9.56646525\n",
            "Iteration 31, loss = 9.52734334\n",
            "Iteration 32, loss = 9.49474414\n",
            "Iteration 33, loss = 9.46510903\n",
            "Iteration 34, loss = 9.43736080\n",
            "Iteration 35, loss = 9.40941866\n",
            "Iteration 36, loss = 9.38318521\n",
            "Iteration 37, loss = 9.35744558\n",
            "Iteration 38, loss = 9.33897990\n",
            "Iteration 39, loss = 9.31879768\n",
            "Iteration 40, loss = 9.29841037\n",
            "Iteration 41, loss = 9.28093478\n",
            "Iteration 42, loss = 9.26670436\n",
            "Iteration 43, loss = 9.25033066\n",
            "Iteration 44, loss = 9.23578415\n",
            "Iteration 45, loss = 9.21797949\n",
            "Iteration 46, loss = 9.20264703\n",
            "Iteration 47, loss = 9.18707321\n",
            "Iteration 48, loss = 9.17099410\n",
            "Iteration 49, loss = 9.15782959\n",
            "Iteration 50, loss = 9.14331424\n",
            "Iteration 51, loss = 9.13049374\n",
            "Iteration 52, loss = 9.11958332\n",
            "Iteration 53, loss = 9.10676267\n",
            "Iteration 54, loss = 9.09232525\n",
            "Iteration 55, loss = 9.08174246\n",
            "Iteration 56, loss = 9.06869976\n",
            "Iteration 57, loss = 9.05284214\n",
            "Iteration 58, loss = 9.04057468\n",
            "Iteration 59, loss = 9.02530626\n",
            "Iteration 60, loss = 9.01302303\n",
            "Iteration 61, loss = 9.00385007\n",
            "Iteration 62, loss = 8.99239667\n",
            "Iteration 63, loss = 8.98152086\n",
            "Iteration 64, loss = 8.97596072\n",
            "Iteration 65, loss = 8.96491250\n",
            "Iteration 66, loss = 8.95653258\n",
            "Iteration 67, loss = 8.94750520\n",
            "Iteration 68, loss = 8.94295645\n",
            "Iteration 69, loss = 8.93466690\n",
            "Iteration 70, loss = 8.92960398\n",
            "Iteration 71, loss = 8.92411279\n",
            "Iteration 72, loss = 8.92032650\n",
            "Iteration 73, loss = 8.91457331\n",
            "Iteration 74, loss = 8.91016020\n",
            "Iteration 75, loss = 8.90449554\n",
            "Iteration 76, loss = 8.89955859\n",
            "Iteration 77, loss = 8.89527012\n",
            "Iteration 78, loss = 8.88809218\n",
            "Iteration 79, loss = 8.88735402\n",
            "Iteration 80, loss = 8.88435075\n",
            "Iteration 81, loss = 8.87984843\n",
            "Iteration 82, loss = 8.87477474\n",
            "Iteration 83, loss = 8.87193361\n",
            "Iteration 84, loss = 8.87022335\n",
            "Iteration 85, loss = 8.86731701\n",
            "Iteration 86, loss = 8.86253876\n",
            "Iteration 87, loss = 8.85645148\n",
            "Iteration 88, loss = 8.85758910\n",
            "Iteration 89, loss = 8.85291775\n",
            "Iteration 90, loss = 8.84930556\n",
            "Iteration 91, loss = 8.84556727\n",
            "Iteration 92, loss = 8.84255000\n",
            "Iteration 93, loss = 8.84263832\n",
            "Iteration 94, loss = 8.83870547\n",
            "Iteration 95, loss = 8.83510869\n",
            "Iteration 96, loss = 8.83248558\n",
            "Iteration 97, loss = 8.82993948\n",
            "Iteration 98, loss = 8.82726378\n",
            "Iteration 99, loss = 8.82268784\n",
            "Iteration 100, loss = 8.82174310\n",
            "Iteration 101, loss = 8.81960792\n",
            "Iteration 102, loss = 8.81646219\n",
            "Iteration 103, loss = 8.81489769\n",
            "Iteration 104, loss = 8.80817222\n",
            "Iteration 105, loss = 8.80888231\n",
            "Iteration 106, loss = 8.80669516\n",
            "Iteration 107, loss = 8.80340424\n",
            "Iteration 108, loss = 8.79644469\n",
            "Iteration 109, loss = 8.79622897\n",
            "Iteration 110, loss = 8.79217601\n",
            "Iteration 111, loss = 8.78914363\n",
            "Iteration 112, loss = 8.78480697\n",
            "Iteration 113, loss = 8.78418334\n",
            "Iteration 114, loss = 8.78024348\n",
            "Iteration 115, loss = 8.77777510\n",
            "Iteration 116, loss = 8.77899088\n",
            "Iteration 117, loss = 8.77757177\n",
            "Iteration 118, loss = 8.77358370\n",
            "Iteration 119, loss = 8.77238141\n",
            "Iteration 120, loss = 8.77016171\n",
            "Iteration 121, loss = 8.77024714\n",
            "Iteration 122, loss = 8.76898094\n",
            "Iteration 123, loss = 8.76585693\n",
            "Iteration 124, loss = 8.76256437\n",
            "Iteration 125, loss = 8.76103850\n",
            "Iteration 126, loss = 8.76056238\n",
            "Iteration 127, loss = 8.75888597\n",
            "Iteration 128, loss = 8.75790365\n",
            "Iteration 129, loss = 8.75736953\n",
            "Iteration 130, loss = 8.75807868\n",
            "Iteration 131, loss = 8.75580354\n",
            "Iteration 132, loss = 8.75230020\n",
            "Iteration 133, loss = 8.74498288\n",
            "Iteration 134, loss = 8.73908482\n",
            "Iteration 135, loss = 8.73602713\n",
            "Iteration 136, loss = 8.73279748\n",
            "Iteration 137, loss = 8.73081850\n",
            "Iteration 138, loss = 8.72827599\n",
            "Iteration 139, loss = 8.72604904\n",
            "Iteration 140, loss = 8.72353030\n",
            "Iteration 141, loss = 8.72292423\n",
            "Iteration 142, loss = 8.72037327\n",
            "Iteration 143, loss = 8.71687057\n",
            "Iteration 144, loss = 8.71558898\n",
            "Iteration 145, loss = 8.71497609\n",
            "Iteration 146, loss = 8.71172923\n",
            "Iteration 147, loss = 8.71041311\n",
            "Iteration 148, loss = 8.70750170\n",
            "Iteration 149, loss = 8.70702047\n",
            "Iteration 150, loss = 8.70373552\n",
            "Iteration 151, loss = 8.70373087\n",
            "Iteration 152, loss = 8.69996344\n",
            "Iteration 153, loss = 8.69786976\n",
            "Iteration 154, loss = 8.69712246\n",
            "Iteration 155, loss = 8.69420228\n",
            "Iteration 156, loss = 8.68994855\n",
            "Iteration 157, loss = 8.68721648\n",
            "Iteration 158, loss = 8.67817531\n",
            "Iteration 159, loss = 8.67577684\n",
            "Iteration 160, loss = 8.67078701\n",
            "Iteration 161, loss = 8.66839278\n",
            "Iteration 162, loss = 8.66634584\n",
            "Iteration 163, loss = 8.66636325\n",
            "Iteration 164, loss = 8.66176420\n",
            "Iteration 165, loss = 8.65779161\n",
            "Iteration 166, loss = 8.64522915\n",
            "Iteration 167, loss = 8.51604734\n",
            "Iteration 168, loss = 8.42313598\n",
            "Iteration 169, loss = 8.35803484\n",
            "Iteration 170, loss = 8.28737372\n",
            "Iteration 171, loss = 8.21398607\n",
            "Iteration 172, loss = 8.14205141\n",
            "Iteration 173, loss = 8.06677358\n",
            "Iteration 174, loss = 7.99336150\n",
            "Iteration 175, loss = 7.92001957\n",
            "Iteration 176, loss = 7.85082218\n",
            "Iteration 177, loss = 7.78657340\n",
            "Iteration 178, loss = 7.72521241\n",
            "Iteration 179, loss = 7.66850209\n",
            "Iteration 180, loss = 7.61496253\n",
            "Iteration 181, loss = 7.57153907\n",
            "Iteration 182, loss = 7.52624049\n",
            "Iteration 183, loss = 7.48304727\n",
            "Iteration 184, loss = 7.44481830\n",
            "Iteration 185, loss = 7.40869858\n",
            "Iteration 186, loss = 7.37430446\n",
            "Iteration 187, loss = 7.34305438\n",
            "Iteration 188, loss = 7.31245470\n",
            "Iteration 189, loss = 7.28173131\n",
            "Iteration 190, loss = 7.25651666\n",
            "Iteration 191, loss = 7.22960337\n",
            "Iteration 192, loss = 7.20413256\n",
            "Iteration 193, loss = 7.17689064\n",
            "Iteration 194, loss = 7.15317142\n",
            "Iteration 195, loss = 7.12980348\n",
            "Iteration 196, loss = 7.10274300\n",
            "Iteration 197, loss = 7.08074553\n",
            "Iteration 198, loss = 7.05890407\n",
            "Iteration 199, loss = 7.03701446\n",
            "Iteration 200, loss = 7.01333501\n"
          ]
        },
        {
          "name": "stderr",
          "output_type": "stream",
          "text": [
            "d:\\Python\\Lib\\site-packages\\sklearn\\neural_network\\_multilayer_perceptron.py:690: ConvergenceWarning: Stochastic Optimizer: Maximum iterations (200) reached and the optimization hasn't converged yet.\n",
            "  warnings.warn(\n"
          ]
        },
        {
          "name": "stdout",
          "output_type": "stream",
          "text": [
            "Training R2 Score (in %): 91.6234\n",
            "Validation R2 Score (in %): 91.3528\n"
          ]
        }
      ],
      "source": [
        "from sklearn.neural_network import MLPRegressor\n",
        "\n",
        "mlp_model = MLPRegressor(hidden_layer_sizes=(50,), activation='relu', solver='adam', batch_size=512, random_state=42, verbose=True)\n",
        "\n",
        "mlp_model.fit(X_train_scaled, y_train)\n",
        "\n",
        "training_score_mlp = mlp_model.score(X_train_scaled, y_train)\n",
        "print('Training R2 Score (in %):', round(training_score_mlp*100, 4))\n",
        "\n",
        "validation_score_mlp = mlp_model.score(X_val_scaled, y_val)\n",
        "print('Validation R2 Score (in %):', round(validation_score_mlp*100, 4))"
      ]
    },
    {
      "cell_type": "code",
      "execution_count": 37,
      "metadata": {},
      "outputs": [
        {
          "name": "stdout",
          "output_type": "stream",
          "text": [
            "Testing R2 Score (in %): 93.7002\n"
          ]
        }
      ],
      "source": [
        "testing_score_mlp = mlp_model.score(X_test_scaled, y_test)\n",
        "print('Testing R2 Score (in %):', round(testing_score_mlp*100, 4))"
      ]
    },
    {
      "cell_type": "code",
      "execution_count": 38,
      "metadata": {},
      "outputs": [
        {
          "name": "stdout",
          "output_type": "stream",
          "text": [
            "Miscellaneous Testing R2 Score (in %): 81.4751\n"
          ]
        }
      ],
      "source": [
        "mis_testing_score_mlp = mlp_model.score(X_mis_scaled, y_mis)\n",
        "print('Miscellaneous Testing R2 Score (in %):', round(mis_testing_score_mlp*100, 4))"
      ]
    },
    {
      "cell_type": "markdown",
      "metadata": {},
      "source": [
        "## KNN Regressor"
      ]
    },
    {
      "cell_type": "code",
      "execution_count": 39,
      "metadata": {},
      "outputs": [
        {
          "name": "stdout",
          "output_type": "stream",
          "text": [
            "Training R2 Score (in %): 98.7219\n",
            "Validation R2 Score (in %): 98.0356\n"
          ]
        }
      ],
      "source": [
        "from sklearn.neighbors import KNeighborsRegressor\n",
        "\n",
        "knn_model = KNeighborsRegressor(n_neighbors=5, weights='uniform')  \n",
        "\n",
        "knn_model.fit(X_train_scaled, y_train)\n",
        "\n",
        "training_score_knn = knn_model.score(X_train_scaled, y_train)\n",
        "print('Training R2 Score (in %):', round(training_score_knn*100, 4))\n",
        "\n",
        "validation_score_knn = knn_model.score(X_val_scaled, y_val)\n",
        "print('Validation R2 Score (in %):', round(validation_score_knn*100, 4))\n"
      ]
    },
    {
      "cell_type": "code",
      "execution_count": 40,
      "metadata": {},
      "outputs": [
        {
          "name": "stdout",
          "output_type": "stream",
          "text": [
            "Testing R2 Score (in %): 84.4841\n"
          ]
        }
      ],
      "source": [
        "testing_score_knn = knn_model.score(X_test_scaled, y_test)\n",
        "print('Testing R2 Score (in %):', round(testing_score_knn*100, 4))"
      ]
    },
    {
      "cell_type": "code",
      "execution_count": 41,
      "metadata": {},
      "outputs": [
        {
          "name": "stdout",
          "output_type": "stream",
          "text": [
            "Miscellaneous Testing R2 Score (in %): 72.2877\n"
          ]
        }
      ],
      "source": [
        "mis_testing_score_knn = knn_model.score(X_mis_scaled, y_mis)\n",
        "print('Miscellaneous Testing R2 Score (in %):', round(mis_testing_score_knn*100, 4))"
      ]
    },
    {
      "cell_type": "markdown",
      "metadata": {},
      "source": [
        "***"
      ]
    }
  ],
  "metadata": {
    "accelerator": "GPU",
    "colab": {
      "gpuType": "T4",
      "provenance": []
    },
    "kernelspec": {
      "display_name": "Python 3",
      "name": "python3"
    },
    "language_info": {
      "codemirror_mode": {
        "name": "ipython",
        "version": 3
      },
      "file_extension": ".py",
      "mimetype": "text/x-python",
      "name": "python",
      "nbconvert_exporter": "python",
      "pygments_lexer": "ipython3",
      "version": "3.12.4"
    }
  },
  "nbformat": 4,
  "nbformat_minor": 0
}
