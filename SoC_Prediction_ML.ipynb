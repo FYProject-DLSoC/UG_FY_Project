{
  "cells": [
    {
      "cell_type": "markdown",
      "metadata": {
        "id": "5aE4Uvrv1rXO"
      },
      "source": [
        "# Machine Learning Algorithms"
      ]
    },
    {
      "cell_type": "code",
      "execution_count": 1,
      "metadata": {},
      "outputs": [],
      "source": [
        "# Importing the required libraries\n",
        "import pandas as pd\n",
        "import numpy as np\n",
        "import matplotlib.pyplot as plt\n",
        "from sklearn.linear_model import LinearRegression\n",
        "from sklearn.model_selection import train_test_split\n",
        "from sklearn.preprocessing import StandardScaler, MinMaxScaler\n",
        "from sklearn.metrics import mean_squared_error, mean_absolute_error, r2_score\n",
        "from matplotlib.ticker import MaxNLocator\n",
        "import keras"
      ]
    },
    {
      "cell_type": "markdown",
      "metadata": {},
      "source": [
        "## Training Dataset"
      ]
    },
    {
      "cell_type": "code",
      "execution_count": 2,
      "metadata": {
        "id": "89JKtwD32kG9"
      },
      "outputs": [
        {
          "data": {
            "text/plain": [
              "(538214, 102)"
            ]
          },
          "execution_count": 2,
          "metadata": {},
          "output_type": "execute_result"
        }
      ],
      "source": [
        "dft1 = pd.read_csv('TripA04.csv')\n",
        "dft2 = pd.read_csv('TripA06.csv')\n",
        "dft3 = pd.read_csv('TripA08.csv')\n",
        "dft4 = pd.read_csv('TripA12.csv')\n",
        "dft5 = pd.read_csv('TripA16.csv')\n",
        "dft6 = pd.read_csv('TripA20.csv')\n",
        "dft7 = pd.read_csv('TripA24.csv')\n",
        "dft8 = pd.read_csv('TripA28.csv')\n",
        "dft9 = pd.read_csv('TripA32.csv')\n",
        "dft10 = pd.read_csv('TripB01.csv')\n",
        "dft11 = pd.read_csv('TripB03.csv')\n",
        "dft12 = pd.read_csv('TripB10.csv')\n",
        "dft13 = pd.read_csv('TripB15.csv')\n",
        "dft14 = pd.read_csv('TripB20.csv')\n",
        "dft15 = pd.read_csv('TripB23.csv')\n",
        "dft16 = pd.read_csv('TripB25.csv')\n",
        "dft17 = pd.read_csv('TripB27.csv')\n",
        "dft18 = pd.read_csv('TripB30.csv')\n",
        "dft19 = pd.read_csv('TripB33.csv')\n",
        "dft20 = pd.read_csv('TripB38.csv')\n",
        "dft21 = pd.read_csv('TripA02.csv')\n",
        "dft22 = pd.read_csv('TripA03.csv')\n",
        "dft23 = pd.read_csv('TripA07.csv')\n",
        "dft24 = pd.read_csv('TripA15.csv')\n",
        "dft25 = pd.read_csv('TripA21.csv')\n",
        "dft26 = pd.read_csv('TripA25.csv')\n",
        "dft27 = pd.read_csv('TripA27.csv')\n",
        "dft28 = pd.read_csv('TripB05.csv')\n",
        "dft29 = pd.read_csv('TripB07.csv')\n",
        "dft30 = pd.read_csv('TripB13.csv')\n",
        "dft31 = pd.read_csv('TripB16.csv')\n",
        "dft32 = pd.read_csv('TripB22.csv')\n",
        "dft33 = pd.read_csv('TripB28.csv')\n",
        "dft34 = pd.read_csv('TripB31.csv')\n",
        "dft35 = pd.read_csv('TripB37.csv')\n",
        "\n",
        "df = pd.concat([dft1, dft2, dft3, dft4, dft5, dft6, dft7, dft8, dft9, dft10, dft11, dft12, dft13, dft14, dft15, dft16, dft17, dft18, dft19, \n",
        "                dft20, dft21, dft22, dft23, dft24, dft25, dft26, dft27, dft28, dft29, dft30, dft31, dft32, dft33, dft34, dft35], ignore_index=True)\n",
        "df.shape"
      ]
    },
    {
      "cell_type": "code",
      "execution_count": 3,
      "metadata": {
        "id": "5UgFwk216wq7"
      },
      "outputs": [],
      "source": [
        "# Extracting input variables and target variable from the dataset\n",
        "Train_DF = df[['Battery Voltage [V]','Battery Current [A]','Battery Temperature [C]','SoC [%]']]"
      ]
    },
    {
      "cell_type": "code",
      "execution_count": 4,
      "metadata": {
        "colab": {
          "base_uri": "https://localhost:8080/"
        },
        "id": "lpgjfbk_54Rm",
        "outputId": "0dace33b-e27b-483c-ff72-495a415ee224"
      },
      "outputs": [
        {
          "name": "stdout",
          "output_type": "stream",
          "text": [
            "<class 'pandas.core.frame.DataFrame'>\n",
            "RangeIndex: 538214 entries, 0 to 538213\n",
            "Data columns (total 4 columns):\n",
            " #   Column                   Non-Null Count   Dtype  \n",
            "---  ------                   --------------   -----  \n",
            " 0   Battery Voltage [V]      538214 non-null  float64\n",
            " 1   Battery Current [A]      538214 non-null  float64\n",
            " 2   Battery Temperature [C]  496092 non-null  float64\n",
            " 3   SoC [%]                  532403 non-null  float64\n",
            "dtypes: float64(4)\n",
            "memory usage: 16.4 MB\n"
          ]
        }
      ],
      "source": [
        "Train_DF.info()"
      ]
    },
    {
      "cell_type": "code",
      "execution_count": 5,
      "metadata": {},
      "outputs": [
        {
          "data": {
            "text/html": [
              "<div>\n",
              "<style scoped>\n",
              "    .dataframe tbody tr th:only-of-type {\n",
              "        vertical-align: middle;\n",
              "    }\n",
              "\n",
              "    .dataframe tbody tr th {\n",
              "        vertical-align: top;\n",
              "    }\n",
              "\n",
              "    .dataframe thead th {\n",
              "        text-align: right;\n",
              "    }\n",
              "</style>\n",
              "<table border=\"1\" class=\"dataframe\">\n",
              "  <thead>\n",
              "    <tr style=\"text-align: right;\">\n",
              "      <th></th>\n",
              "      <th>Battery Voltage [V]</th>\n",
              "      <th>Battery Current [A]</th>\n",
              "      <th>Battery Temperature [C]</th>\n",
              "      <th>SoC [%]</th>\n",
              "    </tr>\n",
              "  </thead>\n",
              "  <tbody>\n",
              "    <tr>\n",
              "      <th>count</th>\n",
              "      <td>538214.000000</td>\n",
              "      <td>538214.000000</td>\n",
              "      <td>496092.000000</td>\n",
              "      <td>532403.000000</td>\n",
              "    </tr>\n",
              "    <tr>\n",
              "      <th>mean</th>\n",
              "      <td>376.137015</td>\n",
              "      <td>-21.815535</td>\n",
              "      <td>16.707009</td>\n",
              "      <td>65.893844</td>\n",
              "    </tr>\n",
              "    <tr>\n",
              "      <th>std</th>\n",
              "      <td>10.793452</td>\n",
              "      <td>43.691556</td>\n",
              "      <td>7.965289</td>\n",
              "      <td>12.973672</td>\n",
              "    </tr>\n",
              "    <tr>\n",
              "      <th>min</th>\n",
              "      <td>301.800000</td>\n",
              "      <td>-402.280000</td>\n",
              "      <td>-1.000000</td>\n",
              "      <td>19.600000</td>\n",
              "    </tr>\n",
              "    <tr>\n",
              "      <th>25%</th>\n",
              "      <td>369.820000</td>\n",
              "      <td>-33.640000</td>\n",
              "      <td>10.000000</td>\n",
              "      <td>59.500000</td>\n",
              "    </tr>\n",
              "    <tr>\n",
              "      <th>50%</th>\n",
              "      <td>378.930000</td>\n",
              "      <td>-12.670000</td>\n",
              "      <td>18.000000</td>\n",
              "      <td>68.200000</td>\n",
              "    </tr>\n",
              "    <tr>\n",
              "      <th>75%</th>\n",
              "      <td>384.066905</td>\n",
              "      <td>-2.600000</td>\n",
              "      <td>25.000000</td>\n",
              "      <td>75.400000</td>\n",
              "    </tr>\n",
              "    <tr>\n",
              "      <th>max</th>\n",
              "      <td>394.660000</td>\n",
              "      <td>143.840000</td>\n",
              "      <td>32.000000</td>\n",
              "      <td>86.600000</td>\n",
              "    </tr>\n",
              "  </tbody>\n",
              "</table>\n",
              "</div>"
            ],
            "text/plain": [
              "       Battery Voltage [V]  Battery Current [A]  Battery Temperature [C]  \\\n",
              "count        538214.000000        538214.000000            496092.000000   \n",
              "mean            376.137015           -21.815535                16.707009   \n",
              "std              10.793452            43.691556                 7.965289   \n",
              "min             301.800000          -402.280000                -1.000000   \n",
              "25%             369.820000           -33.640000                10.000000   \n",
              "50%             378.930000           -12.670000                18.000000   \n",
              "75%             384.066905            -2.600000                25.000000   \n",
              "max             394.660000           143.840000                32.000000   \n",
              "\n",
              "             SoC [%]  \n",
              "count  532403.000000  \n",
              "mean       65.893844  \n",
              "std        12.973672  \n",
              "min        19.600000  \n",
              "25%        59.500000  \n",
              "50%        68.200000  \n",
              "75%        75.400000  \n",
              "max        86.600000  "
            ]
          },
          "execution_count": 5,
          "metadata": {},
          "output_type": "execute_result"
        }
      ],
      "source": [
        "Train_DF.describe()"
      ]
    },
    {
      "cell_type": "markdown",
      "metadata": {},
      "source": [
        "### Data Preprocessing"
      ]
    },
    {
      "cell_type": "code",
      "execution_count": 6,
      "metadata": {},
      "outputs": [
        {
          "data": {
            "text/plain": [
              "Battery Voltage [V]            0\n",
              "Battery Current [A]            0\n",
              "Battery Temperature [C]    42122\n",
              "SoC [%]                     5811\n",
              "dtype: int64"
            ]
          },
          "execution_count": 6,
          "metadata": {},
          "output_type": "execute_result"
        }
      ],
      "source": [
        "Train_DF.isna().sum()"
      ]
    },
    {
      "cell_type": "code",
      "execution_count": 7,
      "metadata": {},
      "outputs": [
        {
          "name": "stderr",
          "output_type": "stream",
          "text": [
            "C:\\Users\\moule\\AppData\\Local\\Temp\\ipykernel_5408\\1450340318.py:1: FutureWarning: DataFrame.fillna with 'method' is deprecated and will raise in a future version. Use obj.ffill() or obj.bfill() instead.\n",
            "  Train_DF = Train_DF.fillna(method = 'bfill')\n"
          ]
        },
        {
          "data": {
            "text/plain": [
              "Battery Voltage [V]        0\n",
              "Battery Current [A]        0\n",
              "Battery Temperature [C]    0\n",
              "SoC [%]                    0\n",
              "dtype: int64"
            ]
          },
          "execution_count": 7,
          "metadata": {},
          "output_type": "execute_result"
        }
      ],
      "source": [
        "Train_DF = Train_DF.fillna(method = 'bfill')\n",
        "Train_DF.isna().sum()"
      ]
    },
    {
      "cell_type": "code",
      "execution_count": 8,
      "metadata": {},
      "outputs": [
        {
          "data": {
            "text/html": [
              "<div>\n",
              "<style scoped>\n",
              "    .dataframe tbody tr th:only-of-type {\n",
              "        vertical-align: middle;\n",
              "    }\n",
              "\n",
              "    .dataframe tbody tr th {\n",
              "        vertical-align: top;\n",
              "    }\n",
              "\n",
              "    .dataframe thead th {\n",
              "        text-align: right;\n",
              "    }\n",
              "</style>\n",
              "<table border=\"1\" class=\"dataframe\">\n",
              "  <thead>\n",
              "    <tr style=\"text-align: right;\">\n",
              "      <th></th>\n",
              "      <th>Battery Voltage [V]</th>\n",
              "      <th>Battery Current [A]</th>\n",
              "      <th>Battery Temperature [C]</th>\n",
              "      <th>SoC [%]</th>\n",
              "    </tr>\n",
              "  </thead>\n",
              "  <tbody>\n",
              "    <tr>\n",
              "      <th>35770</th>\n",
              "      <td>391.57</td>\n",
              "      <td>-8.96</td>\n",
              "      <td>26.0</td>\n",
              "      <td>86.6</td>\n",
              "    </tr>\n",
              "    <tr>\n",
              "      <th>35782</th>\n",
              "      <td>390.97</td>\n",
              "      <td>-16.99</td>\n",
              "      <td>26.0</td>\n",
              "      <td>86.6</td>\n",
              "    </tr>\n",
              "    <tr>\n",
              "      <th>35792</th>\n",
              "      <td>390.83</td>\n",
              "      <td>-17.85</td>\n",
              "      <td>26.0</td>\n",
              "      <td>86.6</td>\n",
              "    </tr>\n",
              "    <tr>\n",
              "      <th>35791</th>\n",
              "      <td>390.82</td>\n",
              "      <td>-17.96</td>\n",
              "      <td>26.0</td>\n",
              "      <td>86.6</td>\n",
              "    </tr>\n",
              "    <tr>\n",
              "      <th>35790</th>\n",
              "      <td>390.87</td>\n",
              "      <td>-17.66</td>\n",
              "      <td>26.0</td>\n",
              "      <td>86.6</td>\n",
              "    </tr>\n",
              "    <tr>\n",
              "      <th>...</th>\n",
              "      <td>...</td>\n",
              "      <td>...</td>\n",
              "      <td>...</td>\n",
              "      <td>...</td>\n",
              "    </tr>\n",
              "    <tr>\n",
              "      <th>510698</th>\n",
              "      <td>339.38</td>\n",
              "      <td>-1.30</td>\n",
              "      <td>11.0</td>\n",
              "      <td>19.6</td>\n",
              "    </tr>\n",
              "    <tr>\n",
              "      <th>510696</th>\n",
              "      <td>338.25</td>\n",
              "      <td>-10.61</td>\n",
              "      <td>11.0</td>\n",
              "      <td>19.6</td>\n",
              "    </tr>\n",
              "    <tr>\n",
              "      <th>510695</th>\n",
              "      <td>338.10</td>\n",
              "      <td>-11.60</td>\n",
              "      <td>11.0</td>\n",
              "      <td>19.6</td>\n",
              "    </tr>\n",
              "    <tr>\n",
              "      <th>510694</th>\n",
              "      <td>338.10</td>\n",
              "      <td>-11.15</td>\n",
              "      <td>11.0</td>\n",
              "      <td>19.6</td>\n",
              "    </tr>\n",
              "    <tr>\n",
              "      <th>510697</th>\n",
              "      <td>338.70</td>\n",
              "      <td>-6.71</td>\n",
              "      <td>11.0</td>\n",
              "      <td>19.6</td>\n",
              "    </tr>\n",
              "  </tbody>\n",
              "</table>\n",
              "<p>538214 rows × 4 columns</p>\n",
              "</div>"
            ],
            "text/plain": [
              "        Battery Voltage [V]  Battery Current [A]  Battery Temperature [C]  \\\n",
              "35770                391.57                -8.96                     26.0   \n",
              "35782                390.97               -16.99                     26.0   \n",
              "35792                390.83               -17.85                     26.0   \n",
              "35791                390.82               -17.96                     26.0   \n",
              "35790                390.87               -17.66                     26.0   \n",
              "...                     ...                  ...                      ...   \n",
              "510698               339.38                -1.30                     11.0   \n",
              "510696               338.25               -10.61                     11.0   \n",
              "510695               338.10               -11.60                     11.0   \n",
              "510694               338.10               -11.15                     11.0   \n",
              "510697               338.70                -6.71                     11.0   \n",
              "\n",
              "        SoC [%]  \n",
              "35770      86.6  \n",
              "35782      86.6  \n",
              "35792      86.6  \n",
              "35791      86.6  \n",
              "35790      86.6  \n",
              "...         ...  \n",
              "510698     19.6  \n",
              "510696     19.6  \n",
              "510695     19.6  \n",
              "510694     19.6  \n",
              "510697     19.6  \n",
              "\n",
              "[538214 rows x 4 columns]"
            ]
          },
          "execution_count": 8,
          "metadata": {},
          "output_type": "execute_result"
        }
      ],
      "source": [
        "Train_DF = Train_DF.sort_values(by='SoC [%]', ascending=False)\n",
        "Train_DF"
      ]
    },
    {
      "cell_type": "code",
      "execution_count": 9,
      "metadata": {},
      "outputs": [
        {
          "data": {
            "text/plain": [
              "(538214, 4)"
            ]
          },
          "execution_count": 9,
          "metadata": {},
          "output_type": "execute_result"
        }
      ],
      "source": [
        "Train_DF.shape"
      ]
    },
    {
      "cell_type": "markdown",
      "metadata": {},
      "source": [
        "## Test Dataset"
      ]
    },
    {
      "cell_type": "code",
      "execution_count": 10,
      "metadata": {},
      "outputs": [
        {
          "data": {
            "text/plain": [
              "(152119, 74)"
            ]
          },
          "execution_count": 10,
          "metadata": {},
          "output_type": "execute_result"
        }
      ],
      "source": [
        "dft_1 = pd.read_csv('TripA01.csv')\n",
        "dft_2 = pd.read_csv('TripA09.csv')\n",
        "dft_3 = pd.read_csv('TripA14.csv')\n",
        "dft_4 = pd.read_csv('TripA17.csv')\n",
        "dft_5 = pd.read_csv('TripA23.csv')\n",
        "dft_6 = pd.read_csv('TripA30.csv')\n",
        "dft_7 = pd.read_csv('TripB02.csv')\n",
        "dft_8 = pd.read_csv('TripB06.csv')\n",
        "dft_9 = pd.read_csv('TripB11.csv')\n",
        "dft_10 = pd.read_csv('TripB19.csv')\n",
        "dft_11 = pd.read_csv('TripB26.csv')\n",
        "dft_12 = pd.read_csv('TripB36.csv')\n",
        "\n",
        "df_test = pd.concat([dft_1, dft_2, dft_3, dft_4, dft_5, dft_6, dft_7, dft_8, dft_9, dft_10, dft_11, dft_12], ignore_index=True)\n",
        "df_test.shape"
      ]
    },
    {
      "cell_type": "code",
      "execution_count": 11,
      "metadata": {},
      "outputs": [],
      "source": [
        "# Extracting input variables and target variable from the dataset\n",
        "Test_DF = df_test[['Battery Voltage [V]','Battery Current [A]','Battery Temperature [C]','SoC [%]']]"
      ]
    },
    {
      "cell_type": "markdown",
      "metadata": {},
      "source": [
        "### Data Preprocessing"
      ]
    },
    {
      "cell_type": "code",
      "execution_count": 12,
      "metadata": {},
      "outputs": [
        {
          "data": {
            "text/plain": [
              "Battery Voltage [V]        0\n",
              "Battery Current [A]        0\n",
              "Battery Temperature [C]    0\n",
              "SoC [%]                    5\n",
              "dtype: int64"
            ]
          },
          "execution_count": 12,
          "metadata": {},
          "output_type": "execute_result"
        }
      ],
      "source": [
        "Test_DF.isna().sum()"
      ]
    },
    {
      "cell_type": "code",
      "execution_count": 13,
      "metadata": {},
      "outputs": [
        {
          "name": "stderr",
          "output_type": "stream",
          "text": [
            "C:\\Users\\moule\\AppData\\Local\\Temp\\ipykernel_5408\\2831511208.py:1: FutureWarning: DataFrame.fillna with 'method' is deprecated and will raise in a future version. Use obj.ffill() or obj.bfill() instead.\n",
            "  Test_DF = Test_DF.fillna(method = 'bfill')\n"
          ]
        },
        {
          "data": {
            "text/plain": [
              "Battery Voltage [V]        0\n",
              "Battery Current [A]        0\n",
              "Battery Temperature [C]    0\n",
              "SoC [%]                    0\n",
              "dtype: int64"
            ]
          },
          "execution_count": 13,
          "metadata": {},
          "output_type": "execute_result"
        }
      ],
      "source": [
        "Test_DF = Test_DF.fillna(method = 'bfill')\n",
        "Test_DF.isna().sum()"
      ]
    },
    {
      "cell_type": "code",
      "execution_count": 14,
      "metadata": {},
      "outputs": [
        {
          "data": {
            "text/html": [
              "<div>\n",
              "<style scoped>\n",
              "    .dataframe tbody tr th:only-of-type {\n",
              "        vertical-align: middle;\n",
              "    }\n",
              "\n",
              "    .dataframe tbody tr th {\n",
              "        vertical-align: top;\n",
              "    }\n",
              "\n",
              "    .dataframe thead th {\n",
              "        text-align: right;\n",
              "    }\n",
              "</style>\n",
              "<table border=\"1\" class=\"dataframe\">\n",
              "  <thead>\n",
              "    <tr style=\"text-align: right;\">\n",
              "      <th></th>\n",
              "      <th>Battery Voltage [V]</th>\n",
              "      <th>Battery Current [A]</th>\n",
              "      <th>Battery Temperature [C]</th>\n",
              "      <th>SoC [%]</th>\n",
              "    </tr>\n",
              "  </thead>\n",
              "  <tbody>\n",
              "    <tr>\n",
              "      <th>42171</th>\n",
              "      <td>390.30000</td>\n",
              "      <td>-20.05670</td>\n",
              "      <td>16.0</td>\n",
              "      <td>87.4</td>\n",
              "    </tr>\n",
              "    <tr>\n",
              "      <th>42128</th>\n",
              "      <td>390.50000</td>\n",
              "      <td>-19.45650</td>\n",
              "      <td>16.0</td>\n",
              "      <td>87.4</td>\n",
              "    </tr>\n",
              "    <tr>\n",
              "      <th>42140</th>\n",
              "      <td>390.40000</td>\n",
              "      <td>-19.30000</td>\n",
              "      <td>16.0</td>\n",
              "      <td>87.4</td>\n",
              "    </tr>\n",
              "    <tr>\n",
              "      <th>42139</th>\n",
              "      <td>390.43586</td>\n",
              "      <td>-19.55104</td>\n",
              "      <td>16.0</td>\n",
              "      <td>87.4</td>\n",
              "    </tr>\n",
              "    <tr>\n",
              "      <th>42138</th>\n",
              "      <td>390.48586</td>\n",
              "      <td>-19.90102</td>\n",
              "      <td>16.0</td>\n",
              "      <td>87.4</td>\n",
              "    </tr>\n",
              "    <tr>\n",
              "      <th>...</th>\n",
              "      <td>...</td>\n",
              "      <td>...</td>\n",
              "      <td>...</td>\n",
              "      <td>...</td>\n",
              "    </tr>\n",
              "    <tr>\n",
              "      <th>123316</th>\n",
              "      <td>347.56000</td>\n",
              "      <td>5.16000</td>\n",
              "      <td>15.0</td>\n",
              "      <td>21.2</td>\n",
              "    </tr>\n",
              "    <tr>\n",
              "      <th>123315</th>\n",
              "      <td>347.61000</td>\n",
              "      <td>5.34000</td>\n",
              "      <td>15.0</td>\n",
              "      <td>21.2</td>\n",
              "    </tr>\n",
              "    <tr>\n",
              "      <th>123314</th>\n",
              "      <td>347.66000</td>\n",
              "      <td>6.19000</td>\n",
              "      <td>15.0</td>\n",
              "      <td>21.2</td>\n",
              "    </tr>\n",
              "    <tr>\n",
              "      <th>123313</th>\n",
              "      <td>347.72000</td>\n",
              "      <td>7.07000</td>\n",
              "      <td>15.0</td>\n",
              "      <td>21.2</td>\n",
              "    </tr>\n",
              "    <tr>\n",
              "      <th>123278</th>\n",
              "      <td>347.58000</td>\n",
              "      <td>9.93000</td>\n",
              "      <td>15.0</td>\n",
              "      <td>21.2</td>\n",
              "    </tr>\n",
              "  </tbody>\n",
              "</table>\n",
              "<p>152119 rows × 4 columns</p>\n",
              "</div>"
            ],
            "text/plain": [
              "        Battery Voltage [V]  Battery Current [A]  Battery Temperature [C]  \\\n",
              "42171             390.30000            -20.05670                     16.0   \n",
              "42128             390.50000            -19.45650                     16.0   \n",
              "42140             390.40000            -19.30000                     16.0   \n",
              "42139             390.43586            -19.55104                     16.0   \n",
              "42138             390.48586            -19.90102                     16.0   \n",
              "...                     ...                  ...                      ...   \n",
              "123316            347.56000              5.16000                     15.0   \n",
              "123315            347.61000              5.34000                     15.0   \n",
              "123314            347.66000              6.19000                     15.0   \n",
              "123313            347.72000              7.07000                     15.0   \n",
              "123278            347.58000              9.93000                     15.0   \n",
              "\n",
              "        SoC [%]  \n",
              "42171      87.4  \n",
              "42128      87.4  \n",
              "42140      87.4  \n",
              "42139      87.4  \n",
              "42138      87.4  \n",
              "...         ...  \n",
              "123316     21.2  \n",
              "123315     21.2  \n",
              "123314     21.2  \n",
              "123313     21.2  \n",
              "123278     21.2  \n",
              "\n",
              "[152119 rows x 4 columns]"
            ]
          },
          "execution_count": 14,
          "metadata": {},
          "output_type": "execute_result"
        }
      ],
      "source": [
        "Test_DF = Test_DF.sort_values(by='SoC [%]', ascending=False)\n",
        "Test_DF"
      ]
    },
    {
      "cell_type": "markdown",
      "metadata": {},
      "source": [
        "## Miscellaneous Dataset"
      ]
    },
    {
      "cell_type": "code",
      "execution_count": 15,
      "metadata": {},
      "outputs": [
        {
          "data": {
            "text/plain": [
              "(404460, 75)"
            ]
          },
          "execution_count": 15,
          "metadata": {},
          "output_type": "execute_result"
        }
      ],
      "source": [
        "dfm1 = pd.read_csv('TripA05.csv')\n",
        "dfm2 = pd.read_csv('TripA10.csv')\n",
        "dfm3 = pd.read_csv('TripA11.csv')\n",
        "dfm4 = pd.read_csv('TripA13.csv')\n",
        "dfm5 = pd.read_csv('TripA18.csv')\n",
        "dfm6 = pd.read_csv('TripA19.csv')\n",
        "dfm7 = pd.read_csv('TripA22.csv')\n",
        "dfm8 = pd.read_csv('TripA26.csv')\n",
        "dfm9 = pd.read_csv('TripA29.csv')\n",
        "dfm10 = pd.read_csv('TripA31.csv')\n",
        "dfm11 = pd.read_csv('TripB04.csv')\n",
        "dfm12 = pd.read_csv('TripB08.csv')\n",
        "dfm13 = pd.read_csv('TripB09.csv')\n",
        "dfm14 = pd.read_csv('TripB12.csv')\n",
        "dfm15 = pd.read_csv('TripB14.csv')\n",
        "dfm16 = pd.read_csv('TripB17.csv')\n",
        "dfm17 = pd.read_csv('TripB18.csv')\n",
        "dfm18 = pd.read_csv('TripB21.csv')\n",
        "dfm19 = pd.read_csv('TripB24.csv')\n",
        "dfm20 = pd.read_csv('TripB29.csv')\n",
        "dfm21 = pd.read_csv('TripB32.csv')\n",
        "dfm22 = pd.read_csv('TripB34.csv')\n",
        "dfm23 = pd.read_csv('TripB35.csv')\n",
        "\n",
        "df_mis = pd.concat([dfm1, dfm2, dfm3, dfm4, dfm5, dfm6, dfm7, dfm8, dfm9, dfm10, dfm11, dfm12, dfm13, dfm14, dfm15, dfm16, dfm17, dfm18, dfm19, \n",
        "                dfm20, dfm21, dfm22, dfm23], ignore_index=True)\n",
        "df_mis.shape"
      ]
    },
    {
      "cell_type": "code",
      "execution_count": 16,
      "metadata": {},
      "outputs": [],
      "source": [
        "# Extracting input variables and target variable from the dataset\n",
        "Mis_DF = df_mis[['Battery Voltage [V]','Battery Current [A]','Battery Temperature [C]','SoC [%]']]"
      ]
    },
    {
      "cell_type": "markdown",
      "metadata": {},
      "source": [
        "### Data Preprocessing"
      ]
    },
    {
      "cell_type": "code",
      "execution_count": 17,
      "metadata": {},
      "outputs": [
        {
          "data": {
            "text/plain": [
              "Battery Voltage [V]            0\n",
              "Battery Current [A]            0\n",
              "Battery Temperature [C]        0\n",
              "SoC [%]                    15438\n",
              "dtype: int64"
            ]
          },
          "execution_count": 17,
          "metadata": {},
          "output_type": "execute_result"
        }
      ],
      "source": [
        "Mis_DF.isna().sum()"
      ]
    },
    {
      "cell_type": "code",
      "execution_count": 18,
      "metadata": {},
      "outputs": [
        {
          "name": "stderr",
          "output_type": "stream",
          "text": [
            "C:\\Users\\moule\\AppData\\Local\\Temp\\ipykernel_5408\\284891322.py:1: FutureWarning: DataFrame.fillna with 'method' is deprecated and will raise in a future version. Use obj.ffill() or obj.bfill() instead.\n",
            "  Mis_DF = Mis_DF.fillna(method = 'bfill')\n"
          ]
        },
        {
          "data": {
            "text/plain": [
              "Battery Voltage [V]        0\n",
              "Battery Current [A]        0\n",
              "Battery Temperature [C]    0\n",
              "SoC [%]                    0\n",
              "dtype: int64"
            ]
          },
          "execution_count": 18,
          "metadata": {},
          "output_type": "execute_result"
        }
      ],
      "source": [
        "Mis_DF = Mis_DF.fillna(method = 'bfill')\n",
        "Mis_DF.isna().sum()"
      ]
    },
    {
      "cell_type": "code",
      "execution_count": 19,
      "metadata": {},
      "outputs": [
        {
          "data": {
            "text/html": [
              "<div>\n",
              "<style scoped>\n",
              "    .dataframe tbody tr th:only-of-type {\n",
              "        vertical-align: middle;\n",
              "    }\n",
              "\n",
              "    .dataframe tbody tr th {\n",
              "        vertical-align: top;\n",
              "    }\n",
              "\n",
              "    .dataframe thead th {\n",
              "        text-align: right;\n",
              "    }\n",
              "</style>\n",
              "<table border=\"1\" class=\"dataframe\">\n",
              "  <thead>\n",
              "    <tr style=\"text-align: right;\">\n",
              "      <th></th>\n",
              "      <th>Battery Voltage [V]</th>\n",
              "      <th>Battery Current [A]</th>\n",
              "      <th>Battery Temperature [C]</th>\n",
              "      <th>SoC [%]</th>\n",
              "    </tr>\n",
              "  </thead>\n",
              "  <tbody>\n",
              "    <tr>\n",
              "      <th>58249</th>\n",
              "      <td>391.98</td>\n",
              "      <td>-10.03</td>\n",
              "      <td>22.0</td>\n",
              "      <td>88.5</td>\n",
              "    </tr>\n",
              "    <tr>\n",
              "      <th>58242</th>\n",
              "      <td>392.12</td>\n",
              "      <td>-9.81</td>\n",
              "      <td>22.0</td>\n",
              "      <td>88.5</td>\n",
              "    </tr>\n",
              "    <tr>\n",
              "      <th>58248</th>\n",
              "      <td>391.88</td>\n",
              "      <td>-11.44</td>\n",
              "      <td>22.0</td>\n",
              "      <td>88.5</td>\n",
              "    </tr>\n",
              "    <tr>\n",
              "      <th>58247</th>\n",
              "      <td>391.80</td>\n",
              "      <td>-12.63</td>\n",
              "      <td>22.0</td>\n",
              "      <td>88.5</td>\n",
              "    </tr>\n",
              "    <tr>\n",
              "      <th>58246</th>\n",
              "      <td>391.80</td>\n",
              "      <td>-12.78</td>\n",
              "      <td>22.0</td>\n",
              "      <td>88.5</td>\n",
              "    </tr>\n",
              "    <tr>\n",
              "      <th>...</th>\n",
              "      <td>...</td>\n",
              "      <td>...</td>\n",
              "      <td>...</td>\n",
              "      <td>...</td>\n",
              "    </tr>\n",
              "    <tr>\n",
              "      <th>375280</th>\n",
              "      <td>344.38</td>\n",
              "      <td>-5.59</td>\n",
              "      <td>14.0</td>\n",
              "      <td>15.4</td>\n",
              "    </tr>\n",
              "    <tr>\n",
              "      <th>375279</th>\n",
              "      <td>344.37</td>\n",
              "      <td>-5.32</td>\n",
              "      <td>14.0</td>\n",
              "      <td>15.4</td>\n",
              "    </tr>\n",
              "    <tr>\n",
              "      <th>375278</th>\n",
              "      <td>344.32</td>\n",
              "      <td>-4.77</td>\n",
              "      <td>14.0</td>\n",
              "      <td>15.4</td>\n",
              "    </tr>\n",
              "    <tr>\n",
              "      <th>375277</th>\n",
              "      <td>344.33</td>\n",
              "      <td>-4.70</td>\n",
              "      <td>14.0</td>\n",
              "      <td>15.4</td>\n",
              "    </tr>\n",
              "    <tr>\n",
              "      <th>375174</th>\n",
              "      <td>344.40</td>\n",
              "      <td>-5.16</td>\n",
              "      <td>14.0</td>\n",
              "      <td>15.4</td>\n",
              "    </tr>\n",
              "  </tbody>\n",
              "</table>\n",
              "<p>404460 rows × 4 columns</p>\n",
              "</div>"
            ],
            "text/plain": [
              "        Battery Voltage [V]  Battery Current [A]  Battery Temperature [C]  \\\n",
              "58249                391.98               -10.03                     22.0   \n",
              "58242                392.12                -9.81                     22.0   \n",
              "58248                391.88               -11.44                     22.0   \n",
              "58247                391.80               -12.63                     22.0   \n",
              "58246                391.80               -12.78                     22.0   \n",
              "...                     ...                  ...                      ...   \n",
              "375280               344.38                -5.59                     14.0   \n",
              "375279               344.37                -5.32                     14.0   \n",
              "375278               344.32                -4.77                     14.0   \n",
              "375277               344.33                -4.70                     14.0   \n",
              "375174               344.40                -5.16                     14.0   \n",
              "\n",
              "        SoC [%]  \n",
              "58249      88.5  \n",
              "58242      88.5  \n",
              "58248      88.5  \n",
              "58247      88.5  \n",
              "58246      88.5  \n",
              "...         ...  \n",
              "375280     15.4  \n",
              "375279     15.4  \n",
              "375278     15.4  \n",
              "375277     15.4  \n",
              "375174     15.4  \n",
              "\n",
              "[404460 rows x 4 columns]"
            ]
          },
          "execution_count": 19,
          "metadata": {},
          "output_type": "execute_result"
        }
      ],
      "source": [
        "Mis_DF = Mis_DF.sort_values(by='SoC [%]', ascending=False)\n",
        "Mis_DF"
      ]
    },
    {
      "cell_type": "markdown",
      "metadata": {},
      "source": [
        "## Splitting the Data into Training and Validation Subsets"
      ]
    },
    {
      "cell_type": "code",
      "execution_count": 20,
      "metadata": {},
      "outputs": [],
      "source": [
        "# Separating the input features and target variable\n",
        "X = Train_DF[['Battery Voltage [V]', 'Battery Current [A]', 'Battery Temperature [C]']]\n",
        "y = Train_DF['SoC [%]']\n",
        "\n",
        "# Performing 80:20 train-test split\n",
        "X_train, X_val, y_train, y_val = train_test_split(X, y, test_size=0.2)"
      ]
    },
    {
      "cell_type": "markdown",
      "metadata": {},
      "source": [
        "## Normalizing the Data"
      ]
    },
    {
      "cell_type": "code",
      "execution_count": 21,
      "metadata": {},
      "outputs": [],
      "source": [
        "scaler = MinMaxScaler(feature_range=(-1, 1))\n",
        "X_train_scaled = scaler.fit_transform(X_train)\n",
        "X_val_scaled = scaler.transform(X_val)"
      ]
    },
    {
      "cell_type": "code",
      "execution_count": 22,
      "metadata": {},
      "outputs": [],
      "source": [
        "X_test = Test_DF[['Battery Voltage [V]', 'Battery Current [A]', 'Battery Temperature [C]']]\n",
        "y_test = Test_DF['SoC [%]'] \n",
        "X_test_scaled = scaler.transform(X_test)"
      ]
    },
    {
      "cell_type": "code",
      "execution_count": 23,
      "metadata": {},
      "outputs": [],
      "source": [
        "X_mis = Mis_DF[['Battery Voltage [V]', 'Battery Current [A]', 'Battery Temperature [C]']]\n",
        "y_mis = Mis_DF['SoC [%]'] \n",
        "X_mis_scaled = scaler.transform(X_mis)"
      ]
    },
    {
      "cell_type": "markdown",
      "metadata": {},
      "source": [
        "## Linear Regression"
      ]
    },
    {
      "cell_type": "code",
      "execution_count": 72,
      "metadata": {
        "colab": {
          "base_uri": "https://localhost:8080/"
        },
        "id": "er0eTCFV28wA",
        "outputId": "fed76d45-9a38-4179-b45d-dd540faca59a"
      },
      "outputs": [
        {
          "name": "stdout",
          "output_type": "stream",
          "text": [
            "Training R2 Score (in %): 82.9611\n",
            "Validation R2 Score (in %): 82.8506\n"
          ]
        }
      ],
      "source": [
        "from sklearn.linear_model import LinearRegression\n",
        "from sklearn.model_selection import train_test_split\n",
        "\n",
        "lr_model = LinearRegression()\n",
        "\n",
        "lr_model.fit(X_train_scaled, y_train)\n",
        "\n",
        "training_score_lr = lr_model.score(X_train_scaled, y_train)\n",
        "print('Training R2 Score (in %):', round(training_score_lr*100, 4))\n",
        "\n",
        "validation_score_lr = lr_model.score(X_val_scaled, y_val)\n",
        "print('Validation R2 Score (in %):', round(validation_score_lr*100, 4))"
      ]
    },
    {
      "cell_type": "code",
      "execution_count": 73,
      "metadata": {},
      "outputs": [
        {
          "name": "stdout",
          "output_type": "stream",
          "text": [
            "Testing R2 Score (in %): 93.5213\n"
          ]
        }
      ],
      "source": [
        "testing_score_lr = lr_model.score(X_test_scaled, y_test)\n",
        "print('Testing R2 Score (in %):', round(testing_score_lr*100, 4))"
      ]
    },
    {
      "cell_type": "code",
      "execution_count": 74,
      "metadata": {},
      "outputs": [
        {
          "name": "stdout",
          "output_type": "stream",
          "text": [
            "Miscellaneous Testing R2 Score (in %): 81.5465\n"
          ]
        }
      ],
      "source": [
        "mis_testing_score_lr = lr_model.score(X_mis_scaled, y_mis)\n",
        "print('Miscellaneous Testing R2 Score (in %):', round(mis_testing_score_lr*100, 4))"
      ]
    },
    {
      "cell_type": "markdown",
      "metadata": {},
      "source": [
        "## Lasso Regression"
      ]
    },
    {
      "cell_type": "code",
      "execution_count": 75,
      "metadata": {},
      "outputs": [
        {
          "name": "stdout",
          "output_type": "stream",
          "text": [
            "Training R2 Score (in %): 82.951\n",
            "Validation R2 Score (in %): 82.843\n"
          ]
        }
      ],
      "source": [
        "from sklearn.linear_model import Lasso\n",
        "\n",
        "lasso_model = Lasso(alpha=0.01, random_state=42)\n",
        "\n",
        "lasso_model.fit(X_train_scaled, y_train)\n",
        "\n",
        "training_score_lasso = lasso_model.score(X_train_scaled, y_train)\n",
        "print('Training R2 Score (in %):', round(training_score_lasso*100, 4))\n",
        "\n",
        "testing_score_lasso = lasso_model.score(X_val_scaled, y_val)\n",
        "print('Validation R2 Score (in %):', round(testing_score_lasso*100, 4))"
      ]
    },
    {
      "cell_type": "code",
      "execution_count": 76,
      "metadata": {},
      "outputs": [
        {
          "name": "stdout",
          "output_type": "stream",
          "text": [
            "Testing R2 Score (in %): 93.3572\n"
          ]
        }
      ],
      "source": [
        "testing_score_lasso = lasso_model.score(X_test_scaled, y_test)\n",
        "print('Testing R2 Score (in %):', round(testing_score_lasso*100, 4))"
      ]
    },
    {
      "cell_type": "code",
      "execution_count": 77,
      "metadata": {},
      "outputs": [
        {
          "name": "stdout",
          "output_type": "stream",
          "text": [
            "Miscellaneous Testing R2 Score (in %): 81.3621\n"
          ]
        }
      ],
      "source": [
        "mis_testing_score_lasso = lasso_model.score(X_mis_scaled, y_mis)\n",
        "print('Miscellaneous Testing R2 Score (in %):', round(mis_testing_score_lasso*100, 4))"
      ]
    },
    {
      "cell_type": "markdown",
      "metadata": {},
      "source": [
        "## Ridge Regression"
      ]
    },
    {
      "cell_type": "code",
      "execution_count": 78,
      "metadata": {},
      "outputs": [
        {
          "name": "stdout",
          "output_type": "stream",
          "text": [
            "Training R2 Score (in %): 82.9575\n",
            "Validation R2 Score (in %): 82.8485\n"
          ]
        }
      ],
      "source": [
        "from sklearn.linear_model import Ridge\n",
        "\n",
        "ridge_model = Ridge(alpha=50, random_state=42)\n",
        "\n",
        "ridge_model.fit(X_train_scaled, y_train)\n",
        "\n",
        "training_score_ridge = ridge_model.score(X_train_scaled, y_train)\n",
        "print('Training R2 Score (in %):', round(training_score_ridge*100, 4))\n",
        "\n",
        "validation_score_ridge = ridge_model.score(X_val_scaled, y_val)\n",
        "print('Validation R2 Score (in %):', round(validation_score_ridge*100, 4))\n"
      ]
    },
    {
      "cell_type": "code",
      "execution_count": 79,
      "metadata": {},
      "outputs": [
        {
          "name": "stdout",
          "output_type": "stream",
          "text": [
            "Testing R2 Score (in %): 93.4173\n"
          ]
        }
      ],
      "source": [
        "testing_score_ridge = ridge_model.score(X_test_scaled, y_test)\n",
        "print('Testing R2 Score (in %):', round(testing_score_ridge*100, 4))"
      ]
    },
    {
      "cell_type": "code",
      "execution_count": 80,
      "metadata": {},
      "outputs": [
        {
          "name": "stdout",
          "output_type": "stream",
          "text": [
            "Miscellaneous Testing R2 Score (in %): 81.4368\n"
          ]
        }
      ],
      "source": [
        "mis_testing_score_ridge = ridge_model.score(X_mis_scaled, y_mis)\n",
        "print('Miscellaneous Testing R2 Score (in %):', round(mis_testing_score_ridge*100, 4))"
      ]
    },
    {
      "cell_type": "markdown",
      "metadata": {},
      "source": [
        "## Linear SVR"
      ]
    },
    {
      "cell_type": "code",
      "execution_count": 96,
      "metadata": {},
      "outputs": [
        {
          "name": "stdout",
          "output_type": "stream",
          "text": [
            "Training R2 Score (in %): 81.9056\n",
            "Validation R2 Score (in %): 81.8045\n"
          ]
        }
      ],
      "source": [
        "from sklearn.svm import LinearSVR\n",
        "\n",
        "linear_svr_model = LinearSVR(epsilon=0.0, C=5.0, random_state=42)\n",
        "\n",
        "linear_svr_model.fit(X_train_scaled, y_train)\n",
        "\n",
        "training_score_linear_svr = linear_svr_model.score(X_train_scaled, y_train)\n",
        "print('Training R2 Score (in %):', round(training_score_linear_svr*100, 4))\n",
        "\n",
        "validation_score_linear_svr = linear_svr_model.score(X_val_scaled, y_val)\n",
        "print('Validation R2 Score (in %):', round(validation_score_linear_svr*100, 4))"
      ]
    },
    {
      "cell_type": "code",
      "execution_count": 97,
      "metadata": {},
      "outputs": [
        {
          "name": "stdout",
          "output_type": "stream",
          "text": [
            "Testing R2 Score (in %): 94.5503\n"
          ]
        }
      ],
      "source": [
        "testing_score_linear_svr = linear_svr_model.score(X_test_scaled, y_test)\n",
        "print('Testing R2 Score (in %):', round(testing_score_linear_svr*100, 4))"
      ]
    },
    {
      "cell_type": "code",
      "execution_count": 98,
      "metadata": {},
      "outputs": [
        {
          "name": "stdout",
          "output_type": "stream",
          "text": [
            "Miscellaneous Testing R2 Score (in %): 81.979\n"
          ]
        }
      ],
      "source": [
        "mis_testing_score_linear_svr = linear_svr_model.score(X_mis_scaled, y_mis)\n",
        "print('Miscellaneous Testing R2 Score (in %):', round(mis_testing_score_linear_svr*100, 4))"
      ]
    },
    {
      "cell_type": "markdown",
      "metadata": {},
      "source": [
        "## Decision Tree Regressor"
      ]
    },
    {
      "cell_type": "code",
      "execution_count": 84,
      "metadata": {},
      "outputs": [
        {
          "name": "stdout",
          "output_type": "stream",
          "text": [
            "Training R2 Score (in %): 99.9899\n",
            "Validation R2 Score (in %): 96.5195\n"
          ]
        }
      ],
      "source": [
        "from sklearn.tree import DecisionTreeRegressor\n",
        "\n",
        "dt_model = DecisionTreeRegressor()\n",
        "\n",
        "dt_model.fit(X_train_scaled, y_train)\n",
        "\n",
        "training_score_dt = dt_model.score(X_train_scaled, y_train)\n",
        "print('Training R2 Score (in %):', round(training_score_dt*100, 4))\n",
        "\n",
        "validation_score_dt = dt_model.score(X_val_scaled, y_val)\n",
        "print('Validation R2 Score (in %):', round(validation_score_dt*100, 4))"
      ]
    },
    {
      "cell_type": "code",
      "execution_count": 85,
      "metadata": {},
      "outputs": [
        {
          "name": "stdout",
          "output_type": "stream",
          "text": [
            "Testing R2 Score (in %): 85.4748\n"
          ]
        }
      ],
      "source": [
        "testing_score_dt = dt_model.score(X_test_scaled, y_test)\n",
        "print('Testing R2 Score (in %):', round(testing_score_dt*100, 4))"
      ]
    },
    {
      "cell_type": "code",
      "execution_count": 86,
      "metadata": {},
      "outputs": [
        {
          "name": "stdout",
          "output_type": "stream",
          "text": [
            "Miscellaneous Testing R2 Score (in %): 71.3823\n"
          ]
        }
      ],
      "source": [
        "mis_testing_score_dt = dt_model.score(X_mis_scaled, y_mis)\n",
        "print('Miscellaneous Testing R2 Score (in %):', round(mis_testing_score_dt*100, 4))"
      ]
    },
    {
      "cell_type": "markdown",
      "metadata": {},
      "source": [
        "## AdaBoost Regressor"
      ]
    },
    {
      "cell_type": "code",
      "execution_count": 87,
      "metadata": {},
      "outputs": [
        {
          "name": "stdout",
          "output_type": "stream",
          "text": [
            "Training R2 Score (in %): 74.1895\n",
            "Validation R2 Score (in %): 74.2081\n"
          ]
        }
      ],
      "source": [
        "from sklearn.ensemble import AdaBoostRegressor\n",
        "\n",
        "adaboost_model = AdaBoostRegressor(n_estimators=50, random_state=42)\n",
        "\n",
        "adaboost_model.fit(X_train_scaled, y_train)\n",
        "\n",
        "training_score_adaboost = adaboost_model.score(X_train_scaled, y_train)\n",
        "print('Training R2 Score (in %):', round(training_score_adaboost*100, 4))\n",
        "\n",
        "validation_score_adaboost = adaboost_model.score(X_val_scaled, y_val)\n",
        "print('Validation R2 Score (in %):', round(validation_score_adaboost*100, 4))"
      ]
    },
    {
      "cell_type": "code",
      "execution_count": 88,
      "metadata": {},
      "outputs": [
        {
          "name": "stdout",
          "output_type": "stream",
          "text": [
            "Testing R2 Score (in %): 77.1237\n"
          ]
        }
      ],
      "source": [
        "testing_score_adaboost = adaboost_model.score(X_test_scaled, y_test)\n",
        "print('Testing R2 Score (in %):', round(testing_score_adaboost*100, 4))"
      ]
    },
    {
      "cell_type": "code",
      "execution_count": 89,
      "metadata": {},
      "outputs": [
        {
          "name": "stdout",
          "output_type": "stream",
          "text": [
            "Miscellaneous Testing R2 Score (in %): 62.9671\n"
          ]
        }
      ],
      "source": [
        "mis_testing_score_adaboost = adaboost_model.score(X_mis_scaled, y_mis)\n",
        "print('Miscellaneous Testing R2 Score (in %):', round(mis_testing_score_adaboost*100, 4))"
      ]
    },
    {
      "cell_type": "markdown",
      "metadata": {},
      "source": [
        "## MLP Regressor"
      ]
    },
    {
      "cell_type": "code",
      "execution_count": 90,
      "metadata": {},
      "outputs": [
        {
          "name": "stdout",
          "output_type": "stream",
          "text": [
            "Iteration 1, loss = 990.46598483\n",
            "Iteration 2, loss = 55.77850156\n",
            "Iteration 3, loss = 32.99084159\n",
            "Iteration 4, loss = 19.78795660\n",
            "Iteration 5, loss = 15.58851500\n",
            "Iteration 6, loss = 13.62545088\n",
            "Iteration 7, loss = 12.44616702\n",
            "Iteration 8, loss = 11.83120550\n",
            "Iteration 9, loss = 11.50311296\n",
            "Iteration 10, loss = 11.33138775\n",
            "Iteration 11, loss = 11.23308695\n",
            "Iteration 12, loss = 11.11463533\n",
            "Iteration 13, loss = 10.96612698\n",
            "Iteration 14, loss = 10.81372804\n",
            "Iteration 15, loss = 10.70306603\n",
            "Iteration 16, loss = 10.60858222\n",
            "Iteration 17, loss = 10.54548911\n",
            "Iteration 18, loss = 10.49638350\n",
            "Iteration 19, loss = 10.44874057\n",
            "Iteration 20, loss = 10.40114307\n",
            "Iteration 21, loss = 10.34779526\n",
            "Iteration 22, loss = 10.29025921\n",
            "Iteration 23, loss = 10.23298375\n",
            "Iteration 24, loss = 10.17162535\n",
            "Iteration 25, loss = 10.10897184\n",
            "Iteration 26, loss = 10.05131502\n",
            "Iteration 27, loss = 9.99561326\n",
            "Iteration 28, loss = 9.94164780\n",
            "Iteration 29, loss = 9.89022446\n",
            "Iteration 30, loss = 9.84205848\n",
            "Iteration 31, loss = 9.79492631\n",
            "Iteration 32, loss = 9.75371728\n",
            "Iteration 33, loss = 9.70787563\n",
            "Iteration 34, loss = 9.67213815\n",
            "Iteration 35, loss = 9.63773208\n",
            "Iteration 36, loss = 9.60605124\n",
            "Iteration 37, loss = 9.57640611\n",
            "Iteration 38, loss = 9.54643381\n",
            "Iteration 39, loss = 9.51642852\n",
            "Iteration 40, loss = 9.49004631\n",
            "Iteration 41, loss = 9.46855077\n",
            "Iteration 42, loss = 9.44357038\n",
            "Iteration 43, loss = 9.42327662\n",
            "Iteration 44, loss = 9.40189579\n",
            "Iteration 45, loss = 9.37283314\n",
            "Iteration 46, loss = 9.35031535\n",
            "Iteration 47, loss = 9.32463836\n",
            "Iteration 48, loss = 9.30309295\n",
            "Iteration 49, loss = 9.27849562\n",
            "Iteration 50, loss = 9.25559354\n",
            "Iteration 51, loss = 9.23421935\n",
            "Iteration 52, loss = 9.21439244\n",
            "Iteration 53, loss = 9.19751616\n",
            "Iteration 54, loss = 9.18104220\n",
            "Iteration 55, loss = 9.16972128\n",
            "Iteration 56, loss = 9.15635126\n",
            "Iteration 57, loss = 9.14117639\n",
            "Iteration 58, loss = 9.12713136\n",
            "Iteration 59, loss = 9.11182923\n",
            "Iteration 60, loss = 9.09767021\n",
            "Iteration 61, loss = 9.08932679\n",
            "Iteration 62, loss = 9.07726361\n",
            "Iteration 63, loss = 9.06763907\n",
            "Iteration 64, loss = 9.05691300\n",
            "Iteration 65, loss = 9.04443305\n",
            "Iteration 66, loss = 9.03424497\n",
            "Iteration 67, loss = 9.02649218\n",
            "Iteration 68, loss = 9.01835099\n",
            "Iteration 69, loss = 9.00819855\n",
            "Iteration 70, loss = 9.00391434\n",
            "Iteration 71, loss = 8.99155411\n",
            "Iteration 72, loss = 8.98457220\n",
            "Iteration 73, loss = 8.97562027\n",
            "Iteration 74, loss = 8.96973069\n",
            "Iteration 75, loss = 8.95997449\n",
            "Iteration 76, loss = 8.95282908\n",
            "Iteration 77, loss = 8.94206973\n",
            "Iteration 78, loss = 8.93166191\n",
            "Iteration 79, loss = 8.92566754\n",
            "Iteration 80, loss = 8.91767218\n",
            "Iteration 81, loss = 8.90872009\n",
            "Iteration 82, loss = 8.90140594\n",
            "Iteration 83, loss = 8.89603262\n",
            "Iteration 84, loss = 8.89015519\n",
            "Iteration 85, loss = 8.88242376\n",
            "Iteration 86, loss = 8.87436240\n",
            "Iteration 87, loss = 8.86837679\n",
            "Iteration 88, loss = 8.86596951\n",
            "Iteration 89, loss = 8.85794509\n",
            "Iteration 90, loss = 8.85517418\n",
            "Iteration 91, loss = 8.85011339\n",
            "Iteration 92, loss = 8.84324015\n",
            "Iteration 93, loss = 8.83729736\n",
            "Iteration 94, loss = 8.83447132\n",
            "Iteration 95, loss = 8.83078165\n",
            "Iteration 96, loss = 8.82408183\n",
            "Iteration 97, loss = 8.82130147\n",
            "Iteration 98, loss = 8.81448510\n",
            "Iteration 99, loss = 8.81083127\n",
            "Iteration 100, loss = 8.80634633\n",
            "Iteration 101, loss = 8.80154663\n",
            "Iteration 102, loss = 8.79800006\n",
            "Iteration 103, loss = 8.79280087\n",
            "Iteration 104, loss = 8.78643099\n",
            "Iteration 105, loss = 8.78290819\n",
            "Iteration 106, loss = 8.77563543\n",
            "Iteration 107, loss = 8.77464081\n",
            "Iteration 108, loss = 8.76703159\n",
            "Iteration 109, loss = 8.76661586\n",
            "Iteration 110, loss = 8.76108674\n",
            "Iteration 111, loss = 8.75559738\n",
            "Iteration 112, loss = 8.75201951\n",
            "Iteration 113, loss = 8.75110496\n",
            "Iteration 114, loss = 8.74616309\n",
            "Iteration 115, loss = 8.74429784\n",
            "Iteration 116, loss = 8.74125759\n",
            "Iteration 117, loss = 8.73680515\n",
            "Iteration 118, loss = 8.73405458\n",
            "Iteration 119, loss = 8.73134695\n",
            "Iteration 120, loss = 8.72950566\n",
            "Iteration 121, loss = 8.72248179\n",
            "Iteration 122, loss = 8.72220914\n",
            "Iteration 123, loss = 8.71932804\n",
            "Iteration 124, loss = 8.71526978\n",
            "Iteration 125, loss = 8.69263704\n",
            "Iteration 126, loss = 8.59644220\n",
            "Iteration 127, loss = 8.54762154\n",
            "Iteration 128, loss = 8.49005749\n",
            "Iteration 129, loss = 8.43291147\n",
            "Iteration 130, loss = 8.36726941\n",
            "Iteration 131, loss = 8.30520679\n",
            "Iteration 132, loss = 8.24135755\n",
            "Iteration 133, loss = 8.18164823\n",
            "Iteration 134, loss = 8.13015271\n",
            "Iteration 135, loss = 8.07382675\n",
            "Iteration 136, loss = 8.02483922\n",
            "Iteration 137, loss = 7.97701178\n",
            "Iteration 138, loss = 7.93212610\n",
            "Iteration 139, loss = 7.88892612\n",
            "Iteration 140, loss = 7.84890840\n",
            "Iteration 141, loss = 7.80896348\n",
            "Iteration 142, loss = 7.77086081\n",
            "Iteration 143, loss = 7.73374991\n",
            "Iteration 144, loss = 7.69868647\n",
            "Iteration 145, loss = 7.66065202\n",
            "Iteration 146, loss = 7.63096048\n",
            "Iteration 147, loss = 7.59767751\n",
            "Iteration 148, loss = 7.56580279\n",
            "Iteration 149, loss = 7.53796462\n",
            "Iteration 150, loss = 7.51023542\n",
            "Iteration 151, loss = 7.48378978\n",
            "Iteration 152, loss = 7.46057732\n",
            "Iteration 153, loss = 7.42911585\n",
            "Iteration 154, loss = 7.38691809\n",
            "Iteration 155, loss = 7.35001335\n",
            "Iteration 156, loss = 7.31778402\n",
            "Iteration 157, loss = 7.28385523\n",
            "Iteration 158, loss = 7.25636334\n",
            "Iteration 159, loss = 7.23278337\n",
            "Iteration 160, loss = 7.20796806\n",
            "Iteration 161, loss = 7.18337061\n",
            "Iteration 162, loss = 7.16325727\n",
            "Iteration 163, loss = 7.14446890\n",
            "Iteration 164, loss = 7.12036721\n",
            "Iteration 165, loss = 7.10115803\n",
            "Iteration 166, loss = 7.08548893\n",
            "Iteration 167, loss = 7.06147070\n",
            "Iteration 168, loss = 7.04286021\n",
            "Iteration 169, loss = 7.02404916\n",
            "Iteration 170, loss = 7.00405633\n",
            "Iteration 171, loss = 6.98210801\n",
            "Iteration 172, loss = 6.95497748\n",
            "Iteration 173, loss = 6.92614198\n",
            "Iteration 174, loss = 6.88626950\n",
            "Iteration 175, loss = 6.84297691\n",
            "Iteration 176, loss = 6.81646847\n",
            "Iteration 177, loss = 6.79266939\n",
            "Iteration 178, loss = 6.77695608\n",
            "Iteration 179, loss = 6.75747459\n",
            "Iteration 180, loss = 6.74146382\n",
            "Iteration 181, loss = 6.72853979\n",
            "Iteration 182, loss = 6.71471352\n",
            "Iteration 183, loss = 6.69892689\n",
            "Iteration 184, loss = 6.67984067\n",
            "Iteration 185, loss = 6.65655254\n",
            "Iteration 186, loss = 6.63965709\n",
            "Iteration 187, loss = 6.62278084\n",
            "Iteration 188, loss = 6.60727136\n",
            "Iteration 189, loss = 6.55446177\n",
            "Iteration 190, loss = 6.48886872\n",
            "Iteration 191, loss = 6.42009531\n",
            "Iteration 192, loss = 6.35519767\n",
            "Iteration 193, loss = 6.29528151\n",
            "Iteration 194, loss = 6.23798268\n",
            "Iteration 195, loss = 6.18240212\n",
            "Iteration 196, loss = 6.13565775\n",
            "Iteration 197, loss = 6.09468244\n",
            "Iteration 198, loss = 6.06088499\n",
            "Iteration 199, loss = 6.02584903\n",
            "Iteration 200, loss = 5.99228552\n"
          ]
        },
        {
          "name": "stderr",
          "output_type": "stream",
          "text": [
            "d:\\Python\\Lib\\site-packages\\sklearn\\neural_network\\_multilayer_perceptron.py:690: ConvergenceWarning: Stochastic Optimizer: Maximum iterations (200) reached and the optimization hasn't converged yet.\n",
            "  warnings.warn(\n"
          ]
        },
        {
          "name": "stdout",
          "output_type": "stream",
          "text": [
            "Training R2 Score (in %): 92.8503\n",
            "Validation R2 Score (in %): 92.8617\n"
          ]
        }
      ],
      "source": [
        "from sklearn.neural_network import MLPRegressor\n",
        "\n",
        "mlp_model = MLPRegressor(hidden_layer_sizes=(50,), activation='relu', solver='adam', batch_size=512, random_state=42, verbose=True)\n",
        "\n",
        "mlp_model.fit(X_train_scaled, y_train)\n",
        "\n",
        "training_score_mlp = mlp_model.score(X_train_scaled, y_train)\n",
        "print('Training R2 Score (in %):', round(training_score_mlp*100, 4))\n",
        "\n",
        "validation_score_mlp = mlp_model.score(X_val_scaled, y_val)\n",
        "print('Validation R2 Score (in %):', round(validation_score_mlp*100, 4))"
      ]
    },
    {
      "cell_type": "code",
      "execution_count": 91,
      "metadata": {},
      "outputs": [
        {
          "name": "stdout",
          "output_type": "stream",
          "text": [
            "Testing R2 Score (in %): 94.7645\n"
          ]
        }
      ],
      "source": [
        "testing_score_mlp = mlp_model.score(X_test_scaled, y_test)\n",
        "print('Testing R2 Score (in %):', round(testing_score_mlp*100, 4))"
      ]
    },
    {
      "cell_type": "code",
      "execution_count": 92,
      "metadata": {},
      "outputs": [
        {
          "name": "stdout",
          "output_type": "stream",
          "text": [
            "Miscellaneous Testing R2 Score (in %): 81.1827\n"
          ]
        }
      ],
      "source": [
        "mis_testing_score_mlp = mlp_model.score(X_mis_scaled, y_mis)\n",
        "print('Miscellaneous Testing R2 Score (in %):', round(mis_testing_score_mlp*100, 4))"
      ]
    },
    {
      "cell_type": "markdown",
      "metadata": {},
      "source": [
        "## KNN Regressor"
      ]
    },
    {
      "cell_type": "markdown",
      "metadata": {},
      "source": [
        "### Determining the best value of K using the elbow curve"
      ]
    },
    {
      "cell_type": "code",
      "execution_count": 24,
      "metadata": {},
      "outputs": [],
      "source": [
        "from sklearn.neighbors import KNeighborsRegressor\n",
        "\n",
        "k_values = range(1, 101) \n",
        "\n",
        "training_scores = []\n",
        "validation_scores = []\n",
        "\n",
        "for k in k_values:\n",
        "    knn_model = KNeighborsRegressor(n_neighbors=k, weights='uniform')\n",
        "    knn_model.fit(X_train_scaled, y_train)\n",
        "    \n",
        "    training_score = knn_model.score(X_train_scaled, y_train)\n",
        "    validation_score = knn_model.score(X_val_scaled, y_val)\n",
        "    \n",
        "    training_scores.append(training_score)\n",
        "    validation_scores.append(validation_score)"
      ]
    },
    {
      "cell_type": "code",
      "execution_count": 27,
      "metadata": {},
      "outputs": [],
      "source": [
        "tr_sc100 = [el*100 for el in training_scores]\n",
        "vl_sc100 = [el*100 for el in validation_scores]"
      ]
    },
    {
      "cell_type": "code",
      "execution_count": 36,
      "metadata": {},
      "outputs": [
        {
          "data": {
            "image/png": "[encoded data removed]",
            "text/plain": [
              "<Figure size 1200x600 with 1 Axes>"
            ]
          },
          "metadata": {},
          "output_type": "display_data"
        }
      ],
      "source": [
        "# Plot the results\n",
        "plt.figure(figsize=(12,6))\n",
        "plt.plot(k_values, tr_sc100, label='Training R2 Score')\n",
        "plt.plot(k_values, vl_sc100, label='Validation R2 Score')\n",
        "plt.xlabel('Value of K', color='black', fontsize=14)\n",
        "plt.ylabel('R2 Score (in %)', color='black', fontsize=14)\n",
        "plt.title('Elbow Curve for K-Nearest Neighbors Regressor', color='black', fontsize=16)\n",
        "plt.tick_params(axis='both', which='major', labelsize=14)\n",
        "plt.xticks(range(0, 105, 5))\n",
        "plt.legend(fontsize=14, ncol=1, loc=\"upper right\")\n",
        "plt.grid(True, linewidth=1, color='black', alpha=0.2)\n",
        "plt.show()"
      ]
    },
    {
      "cell_type": "markdown",
      "metadata": {},
      "source": [
        "The best value of K was found to be 5"
      ]
    },
    {
      "cell_type": "code",
      "execution_count": 53,
      "metadata": {},
      "outputs": [
        {
          "name": "stdout",
          "output_type": "stream",
          "text": [
            "Training R2 Score (in %): 98.7171\n",
            "Validation R2 Score (in %): 98.0798\n"
          ]
        }
      ],
      "source": [
        "from sklearn.neighbors import KNeighborsRegressor\n",
        "\n",
        "knn_model = KNeighborsRegressor(n_neighbors=5, weights='uniform')  \n",
        "\n",
        "knn_model.fit(X_train_scaled, y_train)\n",
        "\n",
        "training_score_knn = knn_model.score(X_train_scaled, y_train)\n",
        "print('Training R2 Score (in %):', round(training_score_knn*100, 4))\n",
        "\n",
        "validation_score_knn = knn_model.score(X_val_scaled, y_val)\n",
        "print('Validation R2 Score (in %):', round(validation_score_knn*100, 4))\n"
      ]
    },
    {
      "cell_type": "code",
      "execution_count": 54,
      "metadata": {},
      "outputs": [
        {
          "name": "stdout",
          "output_type": "stream",
          "text": [
            "Testing R2 Score (in %): 84.574\n"
          ]
        }
      ],
      "source": [
        "testing_score_knn = knn_model.score(X_test_scaled, y_test)\n",
        "print('Testing R2 Score (in %):', round(testing_score_knn*100, 4))"
      ]
    },
    {
      "cell_type": "code",
      "execution_count": 55,
      "metadata": {},
      "outputs": [
        {
          "name": "stdout",
          "output_type": "stream",
          "text": [
            "Miscellaneous Testing R2 Score (in %): 72.0371\n"
          ]
        }
      ],
      "source": [
        "mis_testing_score_knn = knn_model.score(X_mis_scaled, y_mis)\n",
        "print('Miscellaneous Testing R2 Score (in %):', round(mis_testing_score_knn*100, 4))"
      ]
    },
    {
      "cell_type": "markdown",
      "metadata": {},
      "source": [
        "## XGBoost Regressor"
      ]
    },
    {
      "cell_type": "code",
      "execution_count": 56,
      "metadata": {},
      "outputs": [],
      "source": [
        "import xgboost as xgb"
      ]
    },
    {
      "cell_type": "code",
      "execution_count": 57,
      "metadata": {},
      "outputs": [],
      "source": [
        "# Creating an XGBoost Regressor model\n",
        "xgb_model = xgb.XGBRegressor(objective='reg:squarederror')"
      ]
    },
    {
      "cell_type": "code",
      "execution_count": 58,
      "metadata": {},
      "outputs": [
        {
          "data": {
            "text/html": [
              "<style>#sk-container-id-3 {\n",
              "  /* Definition of color scheme common for light and dark mode */\n",
              "  --sklearn-color-text: black;\n",
              "  --sklearn-color-line: gray;\n",
              "  /* Definition of color scheme for unfitted estimators */\n",
              "  --sklearn-color-unfitted-level-0: #fff5e6;\n",
              "  --sklearn-color-unfitted-level-1: #f6e4d2;\n",
              "  --sklearn-color-unfitted-level-2: #ffe0b3;\n",
              "  --sklearn-color-unfitted-level-3: chocolate;\n",
              "  /* Definition of color scheme for fitted estimators */\n",
              "  --sklearn-color-fitted-level-0: #f0f8ff;\n",
              "  --sklearn-color-fitted-level-1: #d4ebff;\n",
              "  --sklearn-color-fitted-level-2: #b3dbfd;\n",
              "  --sklearn-color-fitted-level-3: cornflowerblue;\n",
              "\n",
              "  /* Specific color for light theme */\n",
              "  --sklearn-color-text-on-default-background: var(--sg-text-color, var(--theme-code-foreground, var(--jp-content-font-color1, black)));\n",
              "  --sklearn-color-background: var(--sg-background-color, var(--theme-background, var(--jp-layout-color0, white)));\n",
              "  --sklearn-color-border-box: var(--sg-text-color, var(--theme-code-foreground, var(--jp-content-font-color1, black)));\n",
              "  --sklearn-color-icon: #696969;\n",
              "\n",
              "  @media (prefers-color-scheme: dark) {\n",
              "    /* Redefinition of color scheme for dark theme */\n",
              "    --sklearn-color-text-on-default-background: var(--sg-text-color, var(--theme-code-foreground, var(--jp-content-font-color1, white)));\n",
              "    --sklearn-color-background: var(--sg-background-color, var(--theme-background, var(--jp-layout-color0, #111)));\n",
              "    --sklearn-color-border-box: var(--sg-text-color, var(--theme-code-foreground, var(--jp-content-font-color1, white)));\n",
              "    --sklearn-color-icon: #878787;\n",
              "  }\n",
              "}\n",
              "\n",
              "#sk-container-id-3 {\n",
              "  color: var(--sklearn-color-text);\n",
              "}\n",
              "\n",
              "#sk-container-id-3 pre {\n",
              "  padding: 0;\n",
              "}\n",
              "\n",
              "#sk-container-id-3 input.sk-hidden--visually {\n",
              "  border: 0;\n",
              "  clip: rect(1px 1px 1px 1px);\n",
              "  clip: rect(1px, 1px, 1px, 1px);\n",
              "  height: 1px;\n",
              "  margin: -1px;\n",
              "  overflow: hidden;\n",
              "  padding: 0;\n",
              "  position: absolute;\n",
              "  width: 1px;\n",
              "}\n",
              "\n",
              "#sk-container-id-3 div.sk-dashed-wrapped {\n",
              "  border: 1px dashed var(--sklearn-color-line);\n",
              "  margin: 0 0.4em 0.5em 0.4em;\n",
              "  box-sizing: border-box;\n",
              "  padding-bottom: 0.4em;\n",
              "  background-color: var(--sklearn-color-background);\n",
              "}\n",
              "\n",
              "#sk-container-id-3 div.sk-container {\n",
              "  /* jupyter's `normalize.less` sets `[hidden] { display: none; }`\n",
              "     but bootstrap.min.css set `[hidden] { display: none !important; }`\n",
              "     so we also need the `!important` here to be able to override the\n",
              "     default hidden behavior on the sphinx rendered scikit-learn.org.\n",
              "     See: https://github.com/scikit-learn/scikit-learn/issues/21755 */\n",
              "  display: inline-block !important;\n",
              "  position: relative;\n",
              "}\n",
              "\n",
              "#sk-container-id-3 div.sk-text-repr-fallback {\n",
              "  display: none;\n",
              "}\n",
              "\n",
              "div.sk-parallel-item,\n",
              "div.sk-serial,\n",
              "div.sk-item {\n",
              "  /* draw centered vertical line to link estimators */\n",
              "  background-image: linear-gradient(var(--sklearn-color-text-on-default-background), var(--sklearn-color-text-on-default-background));\n",
              "  background-size: 2px 100%;\n",
              "  background-repeat: no-repeat;\n",
              "  background-position: center center;\n",
              "}\n",
              "\n",
              "/* Parallel-specific style estimator block */\n",
              "\n",
              "#sk-container-id-3 div.sk-parallel-item::after {\n",
              "  content: \"\";\n",
              "  width: 100%;\n",
              "  border-bottom: 2px solid var(--sklearn-color-text-on-default-background);\n",
              "  flex-grow: 1;\n",
              "}\n",
              "\n",
              "#sk-container-id-3 div.sk-parallel {\n",
              "  display: flex;\n",
              "  align-items: stretch;\n",
              "  justify-content: center;\n",
              "  background-color: var(--sklearn-color-background);\n",
              "  position: relative;\n",
              "}\n",
              "\n",
              "#sk-container-id-3 div.sk-parallel-item {\n",
              "  display: flex;\n",
              "  flex-direction: column;\n",
              "}\n",
              "\n",
              "#sk-container-id-3 div.sk-parallel-item:first-child::after {\n",
              "  align-self: flex-end;\n",
              "  width: 50%;\n",
              "}\n",
              "\n",
              "#sk-container-id-3 div.sk-parallel-item:last-child::after {\n",
              "  align-self: flex-start;\n",
              "  width: 50%;\n",
              "}\n",
              "\n",
              "#sk-container-id-3 div.sk-parallel-item:only-child::after {\n",
              "  width: 0;\n",
              "}\n",
              "\n",
              "/* Serial-specific style estimator block */\n",
              "\n",
              "#sk-container-id-3 div.sk-serial {\n",
              "  display: flex;\n",
              "  flex-direction: column;\n",
              "  align-items: center;\n",
              "  background-color: var(--sklearn-color-background);\n",
              "  padding-right: 1em;\n",
              "  padding-left: 1em;\n",
              "}\n",
              "\n",
              "\n",
              "/* Toggleable style: style used for estimator/Pipeline/ColumnTransformer box that is\n",
              "clickable and can be expanded/collapsed.\n",
              "- Pipeline and ColumnTransformer use this feature and define the default style\n",
              "- Estimators will overwrite some part of the style using the `sk-estimator` class\n",
              "*/\n",
              "\n",
              "/* Pipeline and ColumnTransformer style (default) */\n",
              "\n",
              "#sk-container-id-3 div.sk-toggleable {\n",
              "  /* Default theme specific background. It is overwritten whether we have a\n",
              "  specific estimator or a Pipeline/ColumnTransformer */\n",
              "  background-color: var(--sklearn-color-background);\n",
              "}\n",
              "\n",
              "/* Toggleable label */\n",
              "#sk-container-id-3 label.sk-toggleable__label {\n",
              "  cursor: pointer;\n",
              "  display: block;\n",
              "  width: 100%;\n",
              "  margin-bottom: 0;\n",
              "  padding: 0.5em;\n",
              "  box-sizing: border-box;\n",
              "  text-align: center;\n",
              "}\n",
              "\n",
              "#sk-container-id-3 label.sk-toggleable__label-arrow:before {\n",
              "  /* Arrow on the left of the label */\n",
              "  content: \"▸\";\n",
              "  float: left;\n",
              "  margin-right: 0.25em;\n",
              "  color: var(--sklearn-color-icon);\n",
              "}\n",
              "\n",
              "#sk-container-id-3 label.sk-toggleable__label-arrow:hover:before {\n",
              "  color: var(--sklearn-color-text);\n",
              "}\n",
              "\n",
              "/* Toggleable content - dropdown */\n",
              "\n",
              "#sk-container-id-3 div.sk-toggleable__content {\n",
              "  max-height: 0;\n",
              "  max-width: 0;\n",
              "  overflow: hidden;\n",
              "  text-align: left;\n",
              "  /* unfitted */\n",
              "  background-color: var(--sklearn-color-unfitted-level-0);\n",
              "}\n",
              "\n",
              "#sk-container-id-3 div.sk-toggleable__content.fitted {\n",
              "  /* fitted */\n",
              "  background-color: var(--sklearn-color-fitted-level-0);\n",
              "}\n",
              "\n",
              "#sk-container-id-3 div.sk-toggleable__content pre {\n",
              "  margin: 0.2em;\n",
              "  border-radius: 0.25em;\n",
              "  color: var(--sklearn-color-text);\n",
              "  /* unfitted */\n",
              "  background-color: var(--sklearn-color-unfitted-level-0);\n",
              "}\n",
              "\n",
              "#sk-container-id-3 div.sk-toggleable__content.fitted pre {\n",
              "  /* unfitted */\n",
              "  background-color: var(--sklearn-color-fitted-level-0);\n",
              "}\n",
              "\n",
              "#sk-container-id-3 input.sk-toggleable__control:checked~div.sk-toggleable__content {\n",
              "  /* Expand drop-down */\n",
              "  max-height: 200px;\n",
              "  max-width: 100%;\n",
              "  overflow: auto;\n",
              "}\n",
              "\n",
              "#sk-container-id-3 input.sk-toggleable__control:checked~label.sk-toggleable__label-arrow:before {\n",
              "  content: \"▾\";\n",
              "}\n",
              "\n",
              "/* Pipeline/ColumnTransformer-specific style */\n",
              "\n",
              "#sk-container-id-3 div.sk-label input.sk-toggleable__control:checked~label.sk-toggleable__label {\n",
              "  color: var(--sklearn-color-text);\n",
              "  background-color: var(--sklearn-color-unfitted-level-2);\n",
              "}\n",
              "\n",
              "#sk-container-id-3 div.sk-label.fitted input.sk-toggleable__control:checked~label.sk-toggleable__label {\n",
              "  background-color: var(--sklearn-color-fitted-level-2);\n",
              "}\n",
              "\n",
              "/* Estimator-specific style */\n",
              "\n",
              "/* Colorize estimator box */\n",
              "#sk-container-id-3 div.sk-estimator input.sk-toggleable__control:checked~label.sk-toggleable__label {\n",
              "  /* unfitted */\n",
              "  background-color: var(--sklearn-color-unfitted-level-2);\n",
              "}\n",
              "\n",
              "#sk-container-id-3 div.sk-estimator.fitted input.sk-toggleable__control:checked~label.sk-toggleable__label {\n",
              "  /* fitted */\n",
              "  background-color: var(--sklearn-color-fitted-level-2);\n",
              "}\n",
              "\n",
              "#sk-container-id-3 div.sk-label label.sk-toggleable__label,\n",
              "#sk-container-id-3 div.sk-label label {\n",
              "  /* The background is the default theme color */\n",
              "  color: var(--sklearn-color-text-on-default-background);\n",
              "}\n",
              "\n",
              "/* On hover, darken the color of the background */\n",
              "#sk-container-id-3 div.sk-label:hover label.sk-toggleable__label {\n",
              "  color: var(--sklearn-color-text);\n",
              "  background-color: var(--sklearn-color-unfitted-level-2);\n",
              "}\n",
              "\n",
              "/* Label box, darken color on hover, fitted */\n",
              "#sk-container-id-3 div.sk-label.fitted:hover label.sk-toggleable__label.fitted {\n",
              "  color: var(--sklearn-color-text);\n",
              "  background-color: var(--sklearn-color-fitted-level-2);\n",
              "}\n",
              "\n",
              "/* Estimator label */\n",
              "\n",
              "#sk-container-id-3 div.sk-label label {\n",
              "  font-family: monospace;\n",
              "  font-weight: bold;\n",
              "  display: inline-block;\n",
              "  line-height: 1.2em;\n",
              "}\n",
              "\n",
              "#sk-container-id-3 div.sk-label-container {\n",
              "  text-align: center;\n",
              "}\n",
              "\n",
              "/* Estimator-specific */\n",
              "#sk-container-id-3 div.sk-estimator {\n",
              "  font-family: monospace;\n",
              "  border: 1px dotted var(--sklearn-color-border-box);\n",
              "  border-radius: 0.25em;\n",
              "  box-sizing: border-box;\n",
              "  margin-bottom: 0.5em;\n",
              "  /* unfitted */\n",
              "  background-color: var(--sklearn-color-unfitted-level-0);\n",
              "}\n",
              "\n",
              "#sk-container-id-3 div.sk-estimator.fitted {\n",
              "  /* fitted */\n",
              "  background-color: var(--sklearn-color-fitted-level-0);\n",
              "}\n",
              "\n",
              "/* on hover */\n",
              "#sk-container-id-3 div.sk-estimator:hover {\n",
              "  /* unfitted */\n",
              "  background-color: var(--sklearn-color-unfitted-level-2);\n",
              "}\n",
              "\n",
              "#sk-container-id-3 div.sk-estimator.fitted:hover {\n",
              "  /* fitted */\n",
              "  background-color: var(--sklearn-color-fitted-level-2);\n",
              "}\n",
              "\n",
              "/* Specification for estimator info (e.g. \"i\" and \"?\") */\n",
              "\n",
              "/* Common style for \"i\" and \"?\" */\n",
              "\n",
              ".sk-estimator-doc-link,\n",
              "a:link.sk-estimator-doc-link,\n",
              "a:visited.sk-estimator-doc-link {\n",
              "  float: right;\n",
              "  font-size: smaller;\n",
              "  line-height: 1em;\n",
              "  font-family: monospace;\n",
              "  background-color: var(--sklearn-color-background);\n",
              "  border-radius: 1em;\n",
              "  height: 1em;\n",
              "  width: 1em;\n",
              "  text-decoration: none !important;\n",
              "  margin-left: 1ex;\n",
              "  /* unfitted */\n",
              "  border: var(--sklearn-color-unfitted-level-1) 1pt solid;\n",
              "  color: var(--sklearn-color-unfitted-level-1);\n",
              "}\n",
              "\n",
              ".sk-estimator-doc-link.fitted,\n",
              "a:link.sk-estimator-doc-link.fitted,\n",
              "a:visited.sk-estimator-doc-link.fitted {\n",
              "  /* fitted */\n",
              "  border: var(--sklearn-color-fitted-level-1) 1pt solid;\n",
              "  color: var(--sklearn-color-fitted-level-1);\n",
              "}\n",
              "\n",
              "/* On hover */\n",
              "div.sk-estimator:hover .sk-estimator-doc-link:hover,\n",
              ".sk-estimator-doc-link:hover,\n",
              "div.sk-label-container:hover .sk-estimator-doc-link:hover,\n",
              ".sk-estimator-doc-link:hover {\n",
              "  /* unfitted */\n",
              "  background-color: var(--sklearn-color-unfitted-level-3);\n",
              "  color: var(--sklearn-color-background);\n",
              "  text-decoration: none;\n",
              "}\n",
              "\n",
              "div.sk-estimator.fitted:hover .sk-estimator-doc-link.fitted:hover,\n",
              ".sk-estimator-doc-link.fitted:hover,\n",
              "div.sk-label-container:hover .sk-estimator-doc-link.fitted:hover,\n",
              ".sk-estimator-doc-link.fitted:hover {\n",
              "  /* fitted */\n",
              "  background-color: var(--sklearn-color-fitted-level-3);\n",
              "  color: var(--sklearn-color-background);\n",
              "  text-decoration: none;\n",
              "}\n",
              "\n",
              "/* Span, style for the box shown on hovering the info icon */\n",
              ".sk-estimator-doc-link span {\n",
              "  display: none;\n",
              "  z-index: 9999;\n",
              "  position: relative;\n",
              "  font-weight: normal;\n",
              "  right: .2ex;\n",
              "  padding: .5ex;\n",
              "  margin: .5ex;\n",
              "  width: min-content;\n",
              "  min-width: 20ex;\n",
              "  max-width: 50ex;\n",
              "  color: var(--sklearn-color-text);\n",
              "  box-shadow: 2pt 2pt 4pt #999;\n",
              "  /* unfitted */\n",
              "  background: var(--sklearn-color-unfitted-level-0);\n",
              "  border: .5pt solid var(--sklearn-color-unfitted-level-3);\n",
              "}\n",
              "\n",
              ".sk-estimator-doc-link.fitted span {\n",
              "  /* fitted */\n",
              "  background: var(--sklearn-color-fitted-level-0);\n",
              "  border: var(--sklearn-color-fitted-level-3);\n",
              "}\n",
              "\n",
              ".sk-estimator-doc-link:hover span {\n",
              "  display: block;\n",
              "}\n",
              "\n",
              "/* \"?\"-specific style due to the `<a>` HTML tag */\n",
              "\n",
              "#sk-container-id-3 a.estimator_doc_link {\n",
              "  float: right;\n",
              "  font-size: 1rem;\n",
              "  line-height: 1em;\n",
              "  font-family: monospace;\n",
              "  background-color: var(--sklearn-color-background);\n",
              "  border-radius: 1rem;\n",
              "  height: 1rem;\n",
              "  width: 1rem;\n",
              "  text-decoration: none;\n",
              "  /* unfitted */\n",
              "  color: var(--sklearn-color-unfitted-level-1);\n",
              "  border: var(--sklearn-color-unfitted-level-1) 1pt solid;\n",
              "}\n",
              "\n",
              "#sk-container-id-3 a.estimator_doc_link.fitted {\n",
              "  /* fitted */\n",
              "  border: var(--sklearn-color-fitted-level-1) 1pt solid;\n",
              "  color: var(--sklearn-color-fitted-level-1);\n",
              "}\n",
              "\n",
              "/* On hover */\n",
              "#sk-container-id-3 a.estimator_doc_link:hover {\n",
              "  /* unfitted */\n",
              "  background-color: var(--sklearn-color-unfitted-level-3);\n",
              "  color: var(--sklearn-color-background);\n",
              "  text-decoration: none;\n",
              "}\n",
              "\n",
              "#sk-container-id-3 a.estimator_doc_link.fitted:hover {\n",
              "  /* fitted */\n",
              "  background-color: var(--sklearn-color-fitted-level-3);\n",
              "}\n",
              "</style><div id=\"sk-container-id-3\" class=\"sk-top-container\"><div class=\"sk-text-repr-fallback\"><pre>XGBRegressor(base_score=None, booster=None, callbacks=None,\n",
              "             colsample_bylevel=None, colsample_bynode=None,\n",
              "             colsample_bytree=None, device=None, early_stopping_rounds=None,\n",
              "             enable_categorical=False, eval_metric=None, feature_types=None,\n",
              "             gamma=None, grow_policy=None, importance_type=None,\n",
              "             interaction_constraints=None, learning_rate=None, max_bin=None,\n",
              "             max_cat_threshold=None, max_cat_to_onehot=None,\n",
              "             max_delta_step=None, max_depth=None, max_leaves=None,\n",
              "             min_child_weight=None, missing=nan, monotone_constraints=None,\n",
              "             multi_strategy=None, n_estimators=None, n_jobs=None,\n",
              "             num_parallel_tree=None, random_state=None, ...)</pre><b>In a Jupyter environment, please rerun this cell to show the HTML representation or trust the notebook. <br />On GitHub, the HTML representation is unable to render, please try loading this page with nbviewer.org.</b></div><div class=\"sk-container\" hidden><div class=\"sk-item\"><div class=\"sk-estimator fitted sk-toggleable\"><input class=\"sk-toggleable__control sk-hidden--visually\" id=\"sk-estimator-id-3\" type=\"checkbox\" checked><label for=\"sk-estimator-id-3\" class=\"sk-toggleable__label fitted sk-toggleable__label-arrow fitted\">&nbsp;XGBRegressor<span class=\"sk-estimator-doc-link fitted\">i<span>Fitted</span></span></label><div class=\"sk-toggleable__content fitted\"><pre>XGBRegressor(base_score=None, booster=None, callbacks=None,\n",
              "             colsample_bylevel=None, colsample_bynode=None,\n",
              "             colsample_bytree=None, device=None, early_stopping_rounds=None,\n",
              "             enable_categorical=False, eval_metric=None, feature_types=None,\n",
              "             gamma=None, grow_policy=None, importance_type=None,\n",
              "             interaction_constraints=None, learning_rate=None, max_bin=None,\n",
              "             max_cat_threshold=None, max_cat_to_onehot=None,\n",
              "             max_delta_step=None, max_depth=None, max_leaves=None,\n",
              "             min_child_weight=None, missing=nan, monotone_constraints=None,\n",
              "             multi_strategy=None, n_estimators=None, n_jobs=None,\n",
              "             num_parallel_tree=None, random_state=None, ...)</pre></div> </div></div></div></div>"
            ],
            "text/plain": [
              "XGBRegressor(base_score=None, booster=None, callbacks=None,\n",
              "             colsample_bylevel=None, colsample_bynode=None,\n",
              "             colsample_bytree=None, device=None, early_stopping_rounds=None,\n",
              "             enable_categorical=False, eval_metric=None, feature_types=None,\n",
              "             gamma=None, grow_policy=None, importance_type=None,\n",
              "             interaction_constraints=None, learning_rate=None, max_bin=None,\n",
              "             max_cat_threshold=None, max_cat_to_onehot=None,\n",
              "             max_delta_step=None, max_depth=None, max_leaves=None,\n",
              "             min_child_weight=None, missing=nan, monotone_constraints=None,\n",
              "             multi_strategy=None, n_estimators=None, n_jobs=None,\n",
              "             num_parallel_tree=None, random_state=None, ...)"
            ]
          },
          "execution_count": 58,
          "metadata": {},
          "output_type": "execute_result"
        }
      ],
      "source": [
        "# Fitting the model on the training data\n",
        "xgb_model.fit(X_train_scaled, y_train)"
      ]
    },
    {
      "cell_type": "code",
      "execution_count": 59,
      "metadata": {},
      "outputs": [],
      "source": [
        "# Computing R2 scores\n",
        "training_score_xgb = xgb_model.score(X_train_scaled, y_train)\n",
        "validation_score_xgb = xgb_model.score(X_val_scaled, y_val)\n",
        "testing_score_xgb = xgb_model.score(X_test_scaled, y_test)\n",
        "mis_testing_score_xgb = xgb_model.score(X_mis_scaled, y_mis)"
      ]
    },
    {
      "cell_type": "code",
      "execution_count": 60,
      "metadata": {},
      "outputs": [
        {
          "name": "stdout",
          "output_type": "stream",
          "text": [
            "Training R2 Score (in %): 96.8006\n",
            "Validation R2 Score (in %): 96.72\n",
            "Testing R2 Score (in %): 90.1492\n",
            "Miscellaneous Testing R2 Score (in %): 77.4607\n"
          ]
        }
      ],
      "source": [
        "print('Training R2 Score (in %):', round(training_score_xgb*100, 4))\n",
        "print('Validation R2 Score (in %):', round(validation_score_xgb*100, 4))\n",
        "print('Testing R2 Score (in %):', round(testing_score_xgb*100, 4))\n",
        "print('Miscellaneous Testing R2 Score (in %):', round(mis_testing_score_xgb*100, 4))"
      ]
    },
    {
      "cell_type": "markdown",
      "metadata": {},
      "source": [
        "## Random Forest Regressor"
      ]
    },
    {
      "cell_type": "code",
      "execution_count": 24,
      "metadata": {},
      "outputs": [],
      "source": [
        "from sklearn.ensemble import RandomForestRegressor"
      ]
    },
    {
      "cell_type": "code",
      "execution_count": 25,
      "metadata": {},
      "outputs": [
        {
          "data": {
            "text/html": [
              "<style>#sk-container-id-1 {\n",
              "  /* Definition of color scheme common for light and dark mode */\n",
              "  --sklearn-color-text: black;\n",
              "  --sklearn-color-line: gray;\n",
              "  /* Definition of color scheme for unfitted estimators */\n",
              "  --sklearn-color-unfitted-level-0: #fff5e6;\n",
              "  --sklearn-color-unfitted-level-1: #f6e4d2;\n",
              "  --sklearn-color-unfitted-level-2: #ffe0b3;\n",
              "  --sklearn-color-unfitted-level-3: chocolate;\n",
              "  /* Definition of color scheme for fitted estimators */\n",
              "  --sklearn-color-fitted-level-0: #f0f8ff;\n",
              "  --sklearn-color-fitted-level-1: #d4ebff;\n",
              "  --sklearn-color-fitted-level-2: #b3dbfd;\n",
              "  --sklearn-color-fitted-level-3: cornflowerblue;\n",
              "\n",
              "  /* Specific color for light theme */\n",
              "  --sklearn-color-text-on-default-background: var(--sg-text-color, var(--theme-code-foreground, var(--jp-content-font-color1, black)));\n",
              "  --sklearn-color-background: var(--sg-background-color, var(--theme-background, var(--jp-layout-color0, white)));\n",
              "  --sklearn-color-border-box: var(--sg-text-color, var(--theme-code-foreground, var(--jp-content-font-color1, black)));\n",
              "  --sklearn-color-icon: #696969;\n",
              "\n",
              "  @media (prefers-color-scheme: dark) {\n",
              "    /* Redefinition of color scheme for dark theme */\n",
              "    --sklearn-color-text-on-default-background: var(--sg-text-color, var(--theme-code-foreground, var(--jp-content-font-color1, white)));\n",
              "    --sklearn-color-background: var(--sg-background-color, var(--theme-background, var(--jp-layout-color0, #111)));\n",
              "    --sklearn-color-border-box: var(--sg-text-color, var(--theme-code-foreground, var(--jp-content-font-color1, white)));\n",
              "    --sklearn-color-icon: #878787;\n",
              "  }\n",
              "}\n",
              "\n",
              "#sk-container-id-1 {\n",
              "  color: var(--sklearn-color-text);\n",
              "}\n",
              "\n",
              "#sk-container-id-1 pre {\n",
              "  padding: 0;\n",
              "}\n",
              "\n",
              "#sk-container-id-1 input.sk-hidden--visually {\n",
              "  border: 0;\n",
              "  clip: rect(1px 1px 1px 1px);\n",
              "  clip: rect(1px, 1px, 1px, 1px);\n",
              "  height: 1px;\n",
              "  margin: -1px;\n",
              "  overflow: hidden;\n",
              "  padding: 0;\n",
              "  position: absolute;\n",
              "  width: 1px;\n",
              "}\n",
              "\n",
              "#sk-container-id-1 div.sk-dashed-wrapped {\n",
              "  border: 1px dashed var(--sklearn-color-line);\n",
              "  margin: 0 0.4em 0.5em 0.4em;\n",
              "  box-sizing: border-box;\n",
              "  padding-bottom: 0.4em;\n",
              "  background-color: var(--sklearn-color-background);\n",
              "}\n",
              "\n",
              "#sk-container-id-1 div.sk-container {\n",
              "  /* jupyter's `normalize.less` sets `[hidden] { display: none; }`\n",
              "     but bootstrap.min.css set `[hidden] { display: none !important; }`\n",
              "     so we also need the `!important` here to be able to override the\n",
              "     default hidden behavior on the sphinx rendered scikit-learn.org.\n",
              "     See: https://github.com/scikit-learn/scikit-learn/issues/21755 */\n",
              "  display: inline-block !important;\n",
              "  position: relative;\n",
              "}\n",
              "\n",
              "#sk-container-id-1 div.sk-text-repr-fallback {\n",
              "  display: none;\n",
              "}\n",
              "\n",
              "div.sk-parallel-item,\n",
              "div.sk-serial,\n",
              "div.sk-item {\n",
              "  /* draw centered vertical line to link estimators */\n",
              "  background-image: linear-gradient(var(--sklearn-color-text-on-default-background), var(--sklearn-color-text-on-default-background));\n",
              "  background-size: 2px 100%;\n",
              "  background-repeat: no-repeat;\n",
              "  background-position: center center;\n",
              "}\n",
              "\n",
              "/* Parallel-specific style estimator block */\n",
              "\n",
              "#sk-container-id-1 div.sk-parallel-item::after {\n",
              "  content: \"\";\n",
              "  width: 100%;\n",
              "  border-bottom: 2px solid var(--sklearn-color-text-on-default-background);\n",
              "  flex-grow: 1;\n",
              "}\n",
              "\n",
              "#sk-container-id-1 div.sk-parallel {\n",
              "  display: flex;\n",
              "  align-items: stretch;\n",
              "  justify-content: center;\n",
              "  background-color: var(--sklearn-color-background);\n",
              "  position: relative;\n",
              "}\n",
              "\n",
              "#sk-container-id-1 div.sk-parallel-item {\n",
              "  display: flex;\n",
              "  flex-direction: column;\n",
              "}\n",
              "\n",
              "#sk-container-id-1 div.sk-parallel-item:first-child::after {\n",
              "  align-self: flex-end;\n",
              "  width: 50%;\n",
              "}\n",
              "\n",
              "#sk-container-id-1 div.sk-parallel-item:last-child::after {\n",
              "  align-self: flex-start;\n",
              "  width: 50%;\n",
              "}\n",
              "\n",
              "#sk-container-id-1 div.sk-parallel-item:only-child::after {\n",
              "  width: 0;\n",
              "}\n",
              "\n",
              "/* Serial-specific style estimator block */\n",
              "\n",
              "#sk-container-id-1 div.sk-serial {\n",
              "  display: flex;\n",
              "  flex-direction: column;\n",
              "  align-items: center;\n",
              "  background-color: var(--sklearn-color-background);\n",
              "  padding-right: 1em;\n",
              "  padding-left: 1em;\n",
              "}\n",
              "\n",
              "\n",
              "/* Toggleable style: style used for estimator/Pipeline/ColumnTransformer box that is\n",
              "clickable and can be expanded/collapsed.\n",
              "- Pipeline and ColumnTransformer use this feature and define the default style\n",
              "- Estimators will overwrite some part of the style using the `sk-estimator` class\n",
              "*/\n",
              "\n",
              "/* Pipeline and ColumnTransformer style (default) */\n",
              "\n",
              "#sk-container-id-1 div.sk-toggleable {\n",
              "  /* Default theme specific background. It is overwritten whether we have a\n",
              "  specific estimator or a Pipeline/ColumnTransformer */\n",
              "  background-color: var(--sklearn-color-background);\n",
              "}\n",
              "\n",
              "/* Toggleable label */\n",
              "#sk-container-id-1 label.sk-toggleable__label {\n",
              "  cursor: pointer;\n",
              "  display: block;\n",
              "  width: 100%;\n",
              "  margin-bottom: 0;\n",
              "  padding: 0.5em;\n",
              "  box-sizing: border-box;\n",
              "  text-align: center;\n",
              "}\n",
              "\n",
              "#sk-container-id-1 label.sk-toggleable__label-arrow:before {\n",
              "  /* Arrow on the left of the label */\n",
              "  content: \"▸\";\n",
              "  float: left;\n",
              "  margin-right: 0.25em;\n",
              "  color: var(--sklearn-color-icon);\n",
              "}\n",
              "\n",
              "#sk-container-id-1 label.sk-toggleable__label-arrow:hover:before {\n",
              "  color: var(--sklearn-color-text);\n",
              "}\n",
              "\n",
              "/* Toggleable content - dropdown */\n",
              "\n",
              "#sk-container-id-1 div.sk-toggleable__content {\n",
              "  max-height: 0;\n",
              "  max-width: 0;\n",
              "  overflow: hidden;\n",
              "  text-align: left;\n",
              "  /* unfitted */\n",
              "  background-color: var(--sklearn-color-unfitted-level-0);\n",
              "}\n",
              "\n",
              "#sk-container-id-1 div.sk-toggleable__content.fitted {\n",
              "  /* fitted */\n",
              "  background-color: var(--sklearn-color-fitted-level-0);\n",
              "}\n",
              "\n",
              "#sk-container-id-1 div.sk-toggleable__content pre {\n",
              "  margin: 0.2em;\n",
              "  border-radius: 0.25em;\n",
              "  color: var(--sklearn-color-text);\n",
              "  /* unfitted */\n",
              "  background-color: var(--sklearn-color-unfitted-level-0);\n",
              "}\n",
              "\n",
              "#sk-container-id-1 div.sk-toggleable__content.fitted pre {\n",
              "  /* unfitted */\n",
              "  background-color: var(--sklearn-color-fitted-level-0);\n",
              "}\n",
              "\n",
              "#sk-container-id-1 input.sk-toggleable__control:checked~div.sk-toggleable__content {\n",
              "  /* Expand drop-down */\n",
              "  max-height: 200px;\n",
              "  max-width: 100%;\n",
              "  overflow: auto;\n",
              "}\n",
              "\n",
              "#sk-container-id-1 input.sk-toggleable__control:checked~label.sk-toggleable__label-arrow:before {\n",
              "  content: \"▾\";\n",
              "}\n",
              "\n",
              "/* Pipeline/ColumnTransformer-specific style */\n",
              "\n",
              "#sk-container-id-1 div.sk-label input.sk-toggleable__control:checked~label.sk-toggleable__label {\n",
              "  color: var(--sklearn-color-text);\n",
              "  background-color: var(--sklearn-color-unfitted-level-2);\n",
              "}\n",
              "\n",
              "#sk-container-id-1 div.sk-label.fitted input.sk-toggleable__control:checked~label.sk-toggleable__label {\n",
              "  background-color: var(--sklearn-color-fitted-level-2);\n",
              "}\n",
              "\n",
              "/* Estimator-specific style */\n",
              "\n",
              "/* Colorize estimator box */\n",
              "#sk-container-id-1 div.sk-estimator input.sk-toggleable__control:checked~label.sk-toggleable__label {\n",
              "  /* unfitted */\n",
              "  background-color: var(--sklearn-color-unfitted-level-2);\n",
              "}\n",
              "\n",
              "#sk-container-id-1 div.sk-estimator.fitted input.sk-toggleable__control:checked~label.sk-toggleable__label {\n",
              "  /* fitted */\n",
              "  background-color: var(--sklearn-color-fitted-level-2);\n",
              "}\n",
              "\n",
              "#sk-container-id-1 div.sk-label label.sk-toggleable__label,\n",
              "#sk-container-id-1 div.sk-label label {\n",
              "  /* The background is the default theme color */\n",
              "  color: var(--sklearn-color-text-on-default-background);\n",
              "}\n",
              "\n",
              "/* On hover, darken the color of the background */\n",
              "#sk-container-id-1 div.sk-label:hover label.sk-toggleable__label {\n",
              "  color: var(--sklearn-color-text);\n",
              "  background-color: var(--sklearn-color-unfitted-level-2);\n",
              "}\n",
              "\n",
              "/* Label box, darken color on hover, fitted */\n",
              "#sk-container-id-1 div.sk-label.fitted:hover label.sk-toggleable__label.fitted {\n",
              "  color: var(--sklearn-color-text);\n",
              "  background-color: var(--sklearn-color-fitted-level-2);\n",
              "}\n",
              "\n",
              "/* Estimator label */\n",
              "\n",
              "#sk-container-id-1 div.sk-label label {\n",
              "  font-family: monospace;\n",
              "  font-weight: bold;\n",
              "  display: inline-block;\n",
              "  line-height: 1.2em;\n",
              "}\n",
              "\n",
              "#sk-container-id-1 div.sk-label-container {\n",
              "  text-align: center;\n",
              "}\n",
              "\n",
              "/* Estimator-specific */\n",
              "#sk-container-id-1 div.sk-estimator {\n",
              "  font-family: monospace;\n",
              "  border: 1px dotted var(--sklearn-color-border-box);\n",
              "  border-radius: 0.25em;\n",
              "  box-sizing: border-box;\n",
              "  margin-bottom: 0.5em;\n",
              "  /* unfitted */\n",
              "  background-color: var(--sklearn-color-unfitted-level-0);\n",
              "}\n",
              "\n",
              "#sk-container-id-1 div.sk-estimator.fitted {\n",
              "  /* fitted */\n",
              "  background-color: var(--sklearn-color-fitted-level-0);\n",
              "}\n",
              "\n",
              "/* on hover */\n",
              "#sk-container-id-1 div.sk-estimator:hover {\n",
              "  /* unfitted */\n",
              "  background-color: var(--sklearn-color-unfitted-level-2);\n",
              "}\n",
              "\n",
              "#sk-container-id-1 div.sk-estimator.fitted:hover {\n",
              "  /* fitted */\n",
              "  background-color: var(--sklearn-color-fitted-level-2);\n",
              "}\n",
              "\n",
              "/* Specification for estimator info (e.g. \"i\" and \"?\") */\n",
              "\n",
              "/* Common style for \"i\" and \"?\" */\n",
              "\n",
              ".sk-estimator-doc-link,\n",
              "a:link.sk-estimator-doc-link,\n",
              "a:visited.sk-estimator-doc-link {\n",
              "  float: right;\n",
              "  font-size: smaller;\n",
              "  line-height: 1em;\n",
              "  font-family: monospace;\n",
              "  background-color: var(--sklearn-color-background);\n",
              "  border-radius: 1em;\n",
              "  height: 1em;\n",
              "  width: 1em;\n",
              "  text-decoration: none !important;\n",
              "  margin-left: 1ex;\n",
              "  /* unfitted */\n",
              "  border: var(--sklearn-color-unfitted-level-1) 1pt solid;\n",
              "  color: var(--sklearn-color-unfitted-level-1);\n",
              "}\n",
              "\n",
              ".sk-estimator-doc-link.fitted,\n",
              "a:link.sk-estimator-doc-link.fitted,\n",
              "a:visited.sk-estimator-doc-link.fitted {\n",
              "  /* fitted */\n",
              "  border: var(--sklearn-color-fitted-level-1) 1pt solid;\n",
              "  color: var(--sklearn-color-fitted-level-1);\n",
              "}\n",
              "\n",
              "/* On hover */\n",
              "div.sk-estimator:hover .sk-estimator-doc-link:hover,\n",
              ".sk-estimator-doc-link:hover,\n",
              "div.sk-label-container:hover .sk-estimator-doc-link:hover,\n",
              ".sk-estimator-doc-link:hover {\n",
              "  /* unfitted */\n",
              "  background-color: var(--sklearn-color-unfitted-level-3);\n",
              "  color: var(--sklearn-color-background);\n",
              "  text-decoration: none;\n",
              "}\n",
              "\n",
              "div.sk-estimator.fitted:hover .sk-estimator-doc-link.fitted:hover,\n",
              ".sk-estimator-doc-link.fitted:hover,\n",
              "div.sk-label-container:hover .sk-estimator-doc-link.fitted:hover,\n",
              ".sk-estimator-doc-link.fitted:hover {\n",
              "  /* fitted */\n",
              "  background-color: var(--sklearn-color-fitted-level-3);\n",
              "  color: var(--sklearn-color-background);\n",
              "  text-decoration: none;\n",
              "}\n",
              "\n",
              "/* Span, style for the box shown on hovering the info icon */\n",
              ".sk-estimator-doc-link span {\n",
              "  display: none;\n",
              "  z-index: 9999;\n",
              "  position: relative;\n",
              "  font-weight: normal;\n",
              "  right: .2ex;\n",
              "  padding: .5ex;\n",
              "  margin: .5ex;\n",
              "  width: min-content;\n",
              "  min-width: 20ex;\n",
              "  max-width: 50ex;\n",
              "  color: var(--sklearn-color-text);\n",
              "  box-shadow: 2pt 2pt 4pt #999;\n",
              "  /* unfitted */\n",
              "  background: var(--sklearn-color-unfitted-level-0);\n",
              "  border: .5pt solid var(--sklearn-color-unfitted-level-3);\n",
              "}\n",
              "\n",
              ".sk-estimator-doc-link.fitted span {\n",
              "  /* fitted */\n",
              "  background: var(--sklearn-color-fitted-level-0);\n",
              "  border: var(--sklearn-color-fitted-level-3);\n",
              "}\n",
              "\n",
              ".sk-estimator-doc-link:hover span {\n",
              "  display: block;\n",
              "}\n",
              "\n",
              "/* \"?\"-specific style due to the `<a>` HTML tag */\n",
              "\n",
              "#sk-container-id-1 a.estimator_doc_link {\n",
              "  float: right;\n",
              "  font-size: 1rem;\n",
              "  line-height: 1em;\n",
              "  font-family: monospace;\n",
              "  background-color: var(--sklearn-color-background);\n",
              "  border-radius: 1rem;\n",
              "  height: 1rem;\n",
              "  width: 1rem;\n",
              "  text-decoration: none;\n",
              "  /* unfitted */\n",
              "  color: var(--sklearn-color-unfitted-level-1);\n",
              "  border: var(--sklearn-color-unfitted-level-1) 1pt solid;\n",
              "}\n",
              "\n",
              "#sk-container-id-1 a.estimator_doc_link.fitted {\n",
              "  /* fitted */\n",
              "  border: var(--sklearn-color-fitted-level-1) 1pt solid;\n",
              "  color: var(--sklearn-color-fitted-level-1);\n",
              "}\n",
              "\n",
              "/* On hover */\n",
              "#sk-container-id-1 a.estimator_doc_link:hover {\n",
              "  /* unfitted */\n",
              "  background-color: var(--sklearn-color-unfitted-level-3);\n",
              "  color: var(--sklearn-color-background);\n",
              "  text-decoration: none;\n",
              "}\n",
              "\n",
              "#sk-container-id-1 a.estimator_doc_link.fitted:hover {\n",
              "  /* fitted */\n",
              "  background-color: var(--sklearn-color-fitted-level-3);\n",
              "}\n",
              "</style><div id=\"sk-container-id-1\" class=\"sk-top-container\"><div class=\"sk-text-repr-fallback\"><pre>RandomForestRegressor()</pre><b>In a Jupyter environment, please rerun this cell to show the HTML representation or trust the notebook. <br />On GitHub, the HTML representation is unable to render, please try loading this page with nbviewer.org.</b></div><div class=\"sk-container\" hidden><div class=\"sk-item\"><div class=\"sk-estimator fitted sk-toggleable\"><input class=\"sk-toggleable__control sk-hidden--visually\" id=\"sk-estimator-id-1\" type=\"checkbox\" checked><label for=\"sk-estimator-id-1\" class=\"sk-toggleable__label fitted sk-toggleable__label-arrow fitted\">&nbsp;&nbsp;RandomForestRegressor<a class=\"sk-estimator-doc-link fitted\" rel=\"noreferrer\" target=\"_blank\" href=\"https://scikit-learn.org/1.5/modules/generated/sklearn.ensemble.RandomForestRegressor.html\">?<span>Documentation for RandomForestRegressor</span></a><span class=\"sk-estimator-doc-link fitted\">i<span>Fitted</span></span></label><div class=\"sk-toggleable__content fitted\"><pre>RandomForestRegressor()</pre></div> </div></div></div></div>"
            ],
            "text/plain": [
              "RandomForestRegressor()"
            ]
          },
          "execution_count": 25,
          "metadata": {},
          "output_type": "execute_result"
        }
      ],
      "source": [
        "rf_model = RandomForestRegressor()\n",
        "rf_model.fit(X_train_scaled, y_train)"
      ]
    },
    {
      "cell_type": "code",
      "execution_count": 31,
      "metadata": {},
      "outputs": [
        {
          "name": "stdout",
          "output_type": "stream",
          "text": [
            "Training R2 Score (in %): 99.7114\n",
            "Validation R2 Score (in %): 97.9454\n"
          ]
        }
      ],
      "source": [
        "training_score_rf = rf_model.score(X_train_scaled, y_train)\n",
        "print('Training R2 Score (in %):', round(training_score_rf*100, 4))\n",
        "\n",
        "validation_score_rf = rf_model.score(X_val_scaled, y_val)\n",
        "print('Validation R2 Score (in %):', round(validation_score_rf*100, 4))"
      ]
    },
    {
      "cell_type": "code",
      "execution_count": 32,
      "metadata": {},
      "outputs": [
        {
          "name": "stdout",
          "output_type": "stream",
          "text": [
            "Testing R2 Score (in %): 89.2077\n"
          ]
        }
      ],
      "source": [
        "testing_score_rf = rf_model.score(X_test_scaled, y_test)\n",
        "print('Testing R2 Score (in %):', round(testing_score_rf*100, 4))"
      ]
    },
    {
      "cell_type": "code",
      "execution_count": 33,
      "metadata": {},
      "outputs": [
        {
          "name": "stdout",
          "output_type": "stream",
          "text": [
            "Miscellaneous Testing R2 Score (in %): 75.8618\n"
          ]
        }
      ],
      "source": [
        "mis_testing_score_rf = rf_model.score(X_mis_scaled, y_mis)\n",
        "print('Miscellaneous Testing R2 Score (in %):', round(mis_testing_score_rf*100, 4))"
      ]
    },
    {
      "cell_type": "markdown",
      "metadata": {},
      "source": [
        "## Gradient Boosting Regressor"
      ]
    },
    {
      "cell_type": "code",
      "execution_count": 34,
      "metadata": {},
      "outputs": [],
      "source": [
        "from sklearn.ensemble import GradientBoostingRegressor"
      ]
    },
    {
      "cell_type": "code",
      "execution_count": 35,
      "metadata": {},
      "outputs": [
        {
          "data": {
            "text/html": [
              "<style>#sk-container-id-3 {\n",
              "  /* Definition of color scheme common for light and dark mode */\n",
              "  --sklearn-color-text: black;\n",
              "  --sklearn-color-line: gray;\n",
              "  /* Definition of color scheme for unfitted estimators */\n",
              "  --sklearn-color-unfitted-level-0: #fff5e6;\n",
              "  --sklearn-color-unfitted-level-1: #f6e4d2;\n",
              "  --sklearn-color-unfitted-level-2: #ffe0b3;\n",
              "  --sklearn-color-unfitted-level-3: chocolate;\n",
              "  /* Definition of color scheme for fitted estimators */\n",
              "  --sklearn-color-fitted-level-0: #f0f8ff;\n",
              "  --sklearn-color-fitted-level-1: #d4ebff;\n",
              "  --sklearn-color-fitted-level-2: #b3dbfd;\n",
              "  --sklearn-color-fitted-level-3: cornflowerblue;\n",
              "\n",
              "  /* Specific color for light theme */\n",
              "  --sklearn-color-text-on-default-background: var(--sg-text-color, var(--theme-code-foreground, var(--jp-content-font-color1, black)));\n",
              "  --sklearn-color-background: var(--sg-background-color, var(--theme-background, var(--jp-layout-color0, white)));\n",
              "  --sklearn-color-border-box: var(--sg-text-color, var(--theme-code-foreground, var(--jp-content-font-color1, black)));\n",
              "  --sklearn-color-icon: #696969;\n",
              "\n",
              "  @media (prefers-color-scheme: dark) {\n",
              "    /* Redefinition of color scheme for dark theme */\n",
              "    --sklearn-color-text-on-default-background: var(--sg-text-color, var(--theme-code-foreground, var(--jp-content-font-color1, white)));\n",
              "    --sklearn-color-background: var(--sg-background-color, var(--theme-background, var(--jp-layout-color0, #111)));\n",
              "    --sklearn-color-border-box: var(--sg-text-color, var(--theme-code-foreground, var(--jp-content-font-color1, white)));\n",
              "    --sklearn-color-icon: #878787;\n",
              "  }\n",
              "}\n",
              "\n",
              "#sk-container-id-3 {\n",
              "  color: var(--sklearn-color-text);\n",
              "}\n",
              "\n",
              "#sk-container-id-3 pre {\n",
              "  padding: 0;\n",
              "}\n",
              "\n",
              "#sk-container-id-3 input.sk-hidden--visually {\n",
              "  border: 0;\n",
              "  clip: rect(1px 1px 1px 1px);\n",
              "  clip: rect(1px, 1px, 1px, 1px);\n",
              "  height: 1px;\n",
              "  margin: -1px;\n",
              "  overflow: hidden;\n",
              "  padding: 0;\n",
              "  position: absolute;\n",
              "  width: 1px;\n",
              "}\n",
              "\n",
              "#sk-container-id-3 div.sk-dashed-wrapped {\n",
              "  border: 1px dashed var(--sklearn-color-line);\n",
              "  margin: 0 0.4em 0.5em 0.4em;\n",
              "  box-sizing: border-box;\n",
              "  padding-bottom: 0.4em;\n",
              "  background-color: var(--sklearn-color-background);\n",
              "}\n",
              "\n",
              "#sk-container-id-3 div.sk-container {\n",
              "  /* jupyter's `normalize.less` sets `[hidden] { display: none; }`\n",
              "     but bootstrap.min.css set `[hidden] { display: none !important; }`\n",
              "     so we also need the `!important` here to be able to override the\n",
              "     default hidden behavior on the sphinx rendered scikit-learn.org.\n",
              "     See: https://github.com/scikit-learn/scikit-learn/issues/21755 */\n",
              "  display: inline-block !important;\n",
              "  position: relative;\n",
              "}\n",
              "\n",
              "#sk-container-id-3 div.sk-text-repr-fallback {\n",
              "  display: none;\n",
              "}\n",
              "\n",
              "div.sk-parallel-item,\n",
              "div.sk-serial,\n",
              "div.sk-item {\n",
              "  /* draw centered vertical line to link estimators */\n",
              "  background-image: linear-gradient(var(--sklearn-color-text-on-default-background), var(--sklearn-color-text-on-default-background));\n",
              "  background-size: 2px 100%;\n",
              "  background-repeat: no-repeat;\n",
              "  background-position: center center;\n",
              "}\n",
              "\n",
              "/* Parallel-specific style estimator block */\n",
              "\n",
              "#sk-container-id-3 div.sk-parallel-item::after {\n",
              "  content: \"\";\n",
              "  width: 100%;\n",
              "  border-bottom: 2px solid var(--sklearn-color-text-on-default-background);\n",
              "  flex-grow: 1;\n",
              "}\n",
              "\n",
              "#sk-container-id-3 div.sk-parallel {\n",
              "  display: flex;\n",
              "  align-items: stretch;\n",
              "  justify-content: center;\n",
              "  background-color: var(--sklearn-color-background);\n",
              "  position: relative;\n",
              "}\n",
              "\n",
              "#sk-container-id-3 div.sk-parallel-item {\n",
              "  display: flex;\n",
              "  flex-direction: column;\n",
              "}\n",
              "\n",
              "#sk-container-id-3 div.sk-parallel-item:first-child::after {\n",
              "  align-self: flex-end;\n",
              "  width: 50%;\n",
              "}\n",
              "\n",
              "#sk-container-id-3 div.sk-parallel-item:last-child::after {\n",
              "  align-self: flex-start;\n",
              "  width: 50%;\n",
              "}\n",
              "\n",
              "#sk-container-id-3 div.sk-parallel-item:only-child::after {\n",
              "  width: 0;\n",
              "}\n",
              "\n",
              "/* Serial-specific style estimator block */\n",
              "\n",
              "#sk-container-id-3 div.sk-serial {\n",
              "  display: flex;\n",
              "  flex-direction: column;\n",
              "  align-items: center;\n",
              "  background-color: var(--sklearn-color-background);\n",
              "  padding-right: 1em;\n",
              "  padding-left: 1em;\n",
              "}\n",
              "\n",
              "\n",
              "/* Toggleable style: style used for estimator/Pipeline/ColumnTransformer box that is\n",
              "clickable and can be expanded/collapsed.\n",
              "- Pipeline and ColumnTransformer use this feature and define the default style\n",
              "- Estimators will overwrite some part of the style using the `sk-estimator` class\n",
              "*/\n",
              "\n",
              "/* Pipeline and ColumnTransformer style (default) */\n",
              "\n",
              "#sk-container-id-3 div.sk-toggleable {\n",
              "  /* Default theme specific background. It is overwritten whether we have a\n",
              "  specific estimator or a Pipeline/ColumnTransformer */\n",
              "  background-color: var(--sklearn-color-background);\n",
              "}\n",
              "\n",
              "/* Toggleable label */\n",
              "#sk-container-id-3 label.sk-toggleable__label {\n",
              "  cursor: pointer;\n",
              "  display: block;\n",
              "  width: 100%;\n",
              "  margin-bottom: 0;\n",
              "  padding: 0.5em;\n",
              "  box-sizing: border-box;\n",
              "  text-align: center;\n",
              "}\n",
              "\n",
              "#sk-container-id-3 label.sk-toggleable__label-arrow:before {\n",
              "  /* Arrow on the left of the label */\n",
              "  content: \"▸\";\n",
              "  float: left;\n",
              "  margin-right: 0.25em;\n",
              "  color: var(--sklearn-color-icon);\n",
              "}\n",
              "\n",
              "#sk-container-id-3 label.sk-toggleable__label-arrow:hover:before {\n",
              "  color: var(--sklearn-color-text);\n",
              "}\n",
              "\n",
              "/* Toggleable content - dropdown */\n",
              "\n",
              "#sk-container-id-3 div.sk-toggleable__content {\n",
              "  max-height: 0;\n",
              "  max-width: 0;\n",
              "  overflow: hidden;\n",
              "  text-align: left;\n",
              "  /* unfitted */\n",
              "  background-color: var(--sklearn-color-unfitted-level-0);\n",
              "}\n",
              "\n",
              "#sk-container-id-3 div.sk-toggleable__content.fitted {\n",
              "  /* fitted */\n",
              "  background-color: var(--sklearn-color-fitted-level-0);\n",
              "}\n",
              "\n",
              "#sk-container-id-3 div.sk-toggleable__content pre {\n",
              "  margin: 0.2em;\n",
              "  border-radius: 0.25em;\n",
              "  color: var(--sklearn-color-text);\n",
              "  /* unfitted */\n",
              "  background-color: var(--sklearn-color-unfitted-level-0);\n",
              "}\n",
              "\n",
              "#sk-container-id-3 div.sk-toggleable__content.fitted pre {\n",
              "  /* unfitted */\n",
              "  background-color: var(--sklearn-color-fitted-level-0);\n",
              "}\n",
              "\n",
              "#sk-container-id-3 input.sk-toggleable__control:checked~div.sk-toggleable__content {\n",
              "  /* Expand drop-down */\n",
              "  max-height: 200px;\n",
              "  max-width: 100%;\n",
              "  overflow: auto;\n",
              "}\n",
              "\n",
              "#sk-container-id-3 input.sk-toggleable__control:checked~label.sk-toggleable__label-arrow:before {\n",
              "  content: \"▾\";\n",
              "}\n",
              "\n",
              "/* Pipeline/ColumnTransformer-specific style */\n",
              "\n",
              "#sk-container-id-3 div.sk-label input.sk-toggleable__control:checked~label.sk-toggleable__label {\n",
              "  color: var(--sklearn-color-text);\n",
              "  background-color: var(--sklearn-color-unfitted-level-2);\n",
              "}\n",
              "\n",
              "#sk-container-id-3 div.sk-label.fitted input.sk-toggleable__control:checked~label.sk-toggleable__label {\n",
              "  background-color: var(--sklearn-color-fitted-level-2);\n",
              "}\n",
              "\n",
              "/* Estimator-specific style */\n",
              "\n",
              "/* Colorize estimator box */\n",
              "#sk-container-id-3 div.sk-estimator input.sk-toggleable__control:checked~label.sk-toggleable__label {\n",
              "  /* unfitted */\n",
              "  background-color: var(--sklearn-color-unfitted-level-2);\n",
              "}\n",
              "\n",
              "#sk-container-id-3 div.sk-estimator.fitted input.sk-toggleable__control:checked~label.sk-toggleable__label {\n",
              "  /* fitted */\n",
              "  background-color: var(--sklearn-color-fitted-level-2);\n",
              "}\n",
              "\n",
              "#sk-container-id-3 div.sk-label label.sk-toggleable__label,\n",
              "#sk-container-id-3 div.sk-label label {\n",
              "  /* The background is the default theme color */\n",
              "  color: var(--sklearn-color-text-on-default-background);\n",
              "}\n",
              "\n",
              "/* On hover, darken the color of the background */\n",
              "#sk-container-id-3 div.sk-label:hover label.sk-toggleable__label {\n",
              "  color: var(--sklearn-color-text);\n",
              "  background-color: var(--sklearn-color-unfitted-level-2);\n",
              "}\n",
              "\n",
              "/* Label box, darken color on hover, fitted */\n",
              "#sk-container-id-3 div.sk-label.fitted:hover label.sk-toggleable__label.fitted {\n",
              "  color: var(--sklearn-color-text);\n",
              "  background-color: var(--sklearn-color-fitted-level-2);\n",
              "}\n",
              "\n",
              "/* Estimator label */\n",
              "\n",
              "#sk-container-id-3 div.sk-label label {\n",
              "  font-family: monospace;\n",
              "  font-weight: bold;\n",
              "  display: inline-block;\n",
              "  line-height: 1.2em;\n",
              "}\n",
              "\n",
              "#sk-container-id-3 div.sk-label-container {\n",
              "  text-align: center;\n",
              "}\n",
              "\n",
              "/* Estimator-specific */\n",
              "#sk-container-id-3 div.sk-estimator {\n",
              "  font-family: monospace;\n",
              "  border: 1px dotted var(--sklearn-color-border-box);\n",
              "  border-radius: 0.25em;\n",
              "  box-sizing: border-box;\n",
              "  margin-bottom: 0.5em;\n",
              "  /* unfitted */\n",
              "  background-color: var(--sklearn-color-unfitted-level-0);\n",
              "}\n",
              "\n",
              "#sk-container-id-3 div.sk-estimator.fitted {\n",
              "  /* fitted */\n",
              "  background-color: var(--sklearn-color-fitted-level-0);\n",
              "}\n",
              "\n",
              "/* on hover */\n",
              "#sk-container-id-3 div.sk-estimator:hover {\n",
              "  /* unfitted */\n",
              "  background-color: var(--sklearn-color-unfitted-level-2);\n",
              "}\n",
              "\n",
              "#sk-container-id-3 div.sk-estimator.fitted:hover {\n",
              "  /* fitted */\n",
              "  background-color: var(--sklearn-color-fitted-level-2);\n",
              "}\n",
              "\n",
              "/* Specification for estimator info (e.g. \"i\" and \"?\") */\n",
              "\n",
              "/* Common style for \"i\" and \"?\" */\n",
              "\n",
              ".sk-estimator-doc-link,\n",
              "a:link.sk-estimator-doc-link,\n",
              "a:visited.sk-estimator-doc-link {\n",
              "  float: right;\n",
              "  font-size: smaller;\n",
              "  line-height: 1em;\n",
              "  font-family: monospace;\n",
              "  background-color: var(--sklearn-color-background);\n",
              "  border-radius: 1em;\n",
              "  height: 1em;\n",
              "  width: 1em;\n",
              "  text-decoration: none !important;\n",
              "  margin-left: 1ex;\n",
              "  /* unfitted */\n",
              "  border: var(--sklearn-color-unfitted-level-1) 1pt solid;\n",
              "  color: var(--sklearn-color-unfitted-level-1);\n",
              "}\n",
              "\n",
              ".sk-estimator-doc-link.fitted,\n",
              "a:link.sk-estimator-doc-link.fitted,\n",
              "a:visited.sk-estimator-doc-link.fitted {\n",
              "  /* fitted */\n",
              "  border: var(--sklearn-color-fitted-level-1) 1pt solid;\n",
              "  color: var(--sklearn-color-fitted-level-1);\n",
              "}\n",
              "\n",
              "/* On hover */\n",
              "div.sk-estimator:hover .sk-estimator-doc-link:hover,\n",
              ".sk-estimator-doc-link:hover,\n",
              "div.sk-label-container:hover .sk-estimator-doc-link:hover,\n",
              ".sk-estimator-doc-link:hover {\n",
              "  /* unfitted */\n",
              "  background-color: var(--sklearn-color-unfitted-level-3);\n",
              "  color: var(--sklearn-color-background);\n",
              "  text-decoration: none;\n",
              "}\n",
              "\n",
              "div.sk-estimator.fitted:hover .sk-estimator-doc-link.fitted:hover,\n",
              ".sk-estimator-doc-link.fitted:hover,\n",
              "div.sk-label-container:hover .sk-estimator-doc-link.fitted:hover,\n",
              ".sk-estimator-doc-link.fitted:hover {\n",
              "  /* fitted */\n",
              "  background-color: var(--sklearn-color-fitted-level-3);\n",
              "  color: var(--sklearn-color-background);\n",
              "  text-decoration: none;\n",
              "}\n",
              "\n",
              "/* Span, style for the box shown on hovering the info icon */\n",
              ".sk-estimator-doc-link span {\n",
              "  display: none;\n",
              "  z-index: 9999;\n",
              "  position: relative;\n",
              "  font-weight: normal;\n",
              "  right: .2ex;\n",
              "  padding: .5ex;\n",
              "  margin: .5ex;\n",
              "  width: min-content;\n",
              "  min-width: 20ex;\n",
              "  max-width: 50ex;\n",
              "  color: var(--sklearn-color-text);\n",
              "  box-shadow: 2pt 2pt 4pt #999;\n",
              "  /* unfitted */\n",
              "  background: var(--sklearn-color-unfitted-level-0);\n",
              "  border: .5pt solid var(--sklearn-color-unfitted-level-3);\n",
              "}\n",
              "\n",
              ".sk-estimator-doc-link.fitted span {\n",
              "  /* fitted */\n",
              "  background: var(--sklearn-color-fitted-level-0);\n",
              "  border: var(--sklearn-color-fitted-level-3);\n",
              "}\n",
              "\n",
              ".sk-estimator-doc-link:hover span {\n",
              "  display: block;\n",
              "}\n",
              "\n",
              "/* \"?\"-specific style due to the `<a>` HTML tag */\n",
              "\n",
              "#sk-container-id-3 a.estimator_doc_link {\n",
              "  float: right;\n",
              "  font-size: 1rem;\n",
              "  line-height: 1em;\n",
              "  font-family: monospace;\n",
              "  background-color: var(--sklearn-color-background);\n",
              "  border-radius: 1rem;\n",
              "  height: 1rem;\n",
              "  width: 1rem;\n",
              "  text-decoration: none;\n",
              "  /* unfitted */\n",
              "  color: var(--sklearn-color-unfitted-level-1);\n",
              "  border: var(--sklearn-color-unfitted-level-1) 1pt solid;\n",
              "}\n",
              "\n",
              "#sk-container-id-3 a.estimator_doc_link.fitted {\n",
              "  /* fitted */\n",
              "  border: var(--sklearn-color-fitted-level-1) 1pt solid;\n",
              "  color: var(--sklearn-color-fitted-level-1);\n",
              "}\n",
              "\n",
              "/* On hover */\n",
              "#sk-container-id-3 a.estimator_doc_link:hover {\n",
              "  /* unfitted */\n",
              "  background-color: var(--sklearn-color-unfitted-level-3);\n",
              "  color: var(--sklearn-color-background);\n",
              "  text-decoration: none;\n",
              "}\n",
              "\n",
              "#sk-container-id-3 a.estimator_doc_link.fitted:hover {\n",
              "  /* fitted */\n",
              "  background-color: var(--sklearn-color-fitted-level-3);\n",
              "}\n",
              "</style><div id=\"sk-container-id-3\" class=\"sk-top-container\"><div class=\"sk-text-repr-fallback\"><pre>GradientBoostingRegressor()</pre><b>In a Jupyter environment, please rerun this cell to show the HTML representation or trust the notebook. <br />On GitHub, the HTML representation is unable to render, please try loading this page with nbviewer.org.</b></div><div class=\"sk-container\" hidden><div class=\"sk-item\"><div class=\"sk-estimator fitted sk-toggleable\"><input class=\"sk-toggleable__control sk-hidden--visually\" id=\"sk-estimator-id-3\" type=\"checkbox\" checked><label for=\"sk-estimator-id-3\" class=\"sk-toggleable__label fitted sk-toggleable__label-arrow fitted\">&nbsp;&nbsp;GradientBoostingRegressor<a class=\"sk-estimator-doc-link fitted\" rel=\"noreferrer\" target=\"_blank\" href=\"https://scikit-learn.org/1.5/modules/generated/sklearn.ensemble.GradientBoostingRegressor.html\">?<span>Documentation for GradientBoostingRegressor</span></a><span class=\"sk-estimator-doc-link fitted\">i<span>Fitted</span></span></label><div class=\"sk-toggleable__content fitted\"><pre>GradientBoostingRegressor()</pre></div> </div></div></div></div>"
            ],
            "text/plain": [
              "GradientBoostingRegressor()"
            ]
          },
          "execution_count": 35,
          "metadata": {},
          "output_type": "execute_result"
        }
      ],
      "source": [
        "gb_model = GradientBoostingRegressor()\n",
        "gb_model.fit(X_train_scaled, y_train)"
      ]
    },
    {
      "cell_type": "code",
      "execution_count": 36,
      "metadata": {},
      "outputs": [
        {
          "name": "stdout",
          "output_type": "stream",
          "text": [
            "Training R2 Score (in %): 93.5334\n",
            "Validation R2 Score (in %): 93.4392\n"
          ]
        }
      ],
      "source": [
        "training_score_gb = gb_model.score(X_train_scaled, y_train)\n",
        "print('Training R2 Score (in %):', round(training_score_gb*100, 4))\n",
        "\n",
        "validation_score_gb = gb_model.score(X_val_scaled, y_val)\n",
        "print('Validation R2 Score (in %):', round(validation_score_gb*100, 4))"
      ]
    },
    {
      "cell_type": "code",
      "execution_count": 37,
      "metadata": {},
      "outputs": [
        {
          "name": "stdout",
          "output_type": "stream",
          "text": [
            "Testing R2 Score (in %): 93.2566\n"
          ]
        }
      ],
      "source": [
        "testing_score_gb = gb_model.score(X_test_scaled, y_test)\n",
        "print('Testing R2 Score (in %):', round(testing_score_gb*100, 4))"
      ]
    },
    {
      "cell_type": "code",
      "execution_count": 38,
      "metadata": {},
      "outputs": [
        {
          "name": "stdout",
          "output_type": "stream",
          "text": [
            "Miscellaneous Testing R2 Score (in %): 79.7241\n"
          ]
        }
      ],
      "source": [
        "mis_testing_score_gb = gb_model.score(X_mis_scaled, y_mis)\n",
        "print('Miscellaneous Testing R2 Score (in %):', round(mis_testing_score_gb*100, 4))"
      ]
    },
    {
      "cell_type": "markdown",
      "metadata": {},
      "source": [
        "***"
      ]
    }
  ],
  "metadata": {
    "accelerator": "GPU",
    "colab": {
      "gpuType": "T4",
      "provenance": []
    },
    "kernelspec": {
      "display_name": "Python 3",
      "name": "python3"
    },
    "language_info": {
      "codemirror_mode": {
        "name": "ipython",
        "version": 3
      },
      "file_extension": ".py",
      "mimetype": "text/x-python",
      "name": "python",
      "nbconvert_exporter": "python",
      "pygments_lexer": "ipython3",
      "version": "3.12.4"
    }
  },
  "nbformat": 4,
  "nbformat_minor": 0
}
